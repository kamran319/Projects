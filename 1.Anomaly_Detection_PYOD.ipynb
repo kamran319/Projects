{
 "cells": [
  {
   "cell_type": "code",
   "execution_count": 1,
   "metadata": {},
   "outputs": [],
   "source": [
    "import pyod"
   ]
  },
  {
   "cell_type": "code",
   "execution_count": 2,
   "metadata": {},
   "outputs": [],
   "source": [
    "import pandas as pd\n",
    "import numpy as np\n",
    "import matplotlib.pyplot as plt\n",
    "import seaborn as sns\n",
    "sns.set()"
   ]
  },
  {
   "cell_type": "code",
   "execution_count": 3,
   "metadata": {},
   "outputs": [],
   "source": [
    "import os\n",
    "import sys\n",
    "from sklearn.model_selection import train_test_split"
   ]
  },
  {
   "cell_type": "code",
   "execution_count": 4,
   "metadata": {},
   "outputs": [],
   "source": [
    "from scipy.io import loadmat # for matlab file"
   ]
  },
  {
   "cell_type": "markdown",
   "metadata": {},
   "source": [
    "# Importing PYOD packages and methods"
   ]
  },
  {
   "cell_type": "code",
   "execution_count": 5,
   "metadata": {},
   "outputs": [],
   "source": [
    "from pyod.models.pca import PCA\n",
    "from pyod.models.mcd import MCD\n",
    "from pyod.models.ocsvm import OCSVM"
   ]
  },
  {
   "cell_type": "code",
   "execution_count": 6,
   "metadata": {},
   "outputs": [],
   "source": [
    "from pyod.models.lof import LOF\n",
    "from pyod.models.cblof import CBLOF\n",
    "from pyod.models.knn import KNN\n",
    "from pyod.models.hbos import HBOS"
   ]
  },
  {
   "cell_type": "code",
   "execution_count": 7,
   "metadata": {},
   "outputs": [],
   "source": [
    "from pyod.models.abod import ABOD\n"
   ]
  },
  {
   "cell_type": "code",
   "execution_count": 8,
   "metadata": {},
   "outputs": [
    {
     "name": "stderr",
     "output_type": "stream",
     "text": [
      "C:\\Users\\Ash\\Anaconda3\\lib\\site-packages\\sklearn\\utils\\deprecation.py:143: FutureWarning: The sklearn.utils.testing module is  deprecated in version 0.22 and will be removed in version 0.24. The corresponding classes / functions should instead be imported from sklearn.utils. Anything that cannot be imported from sklearn.utils is now part of the private API.\n",
      "  warnings.warn(message, FutureWarning)\n"
     ]
    }
   ],
   "source": [
    "from pyod.models.iforest import IForest\n",
    "from pyod.models.feature_bagging import FeatureBagging"
   ]
  },
  {
   "cell_type": "markdown",
   "metadata": {},
   "source": [
    "# Performance matrics packages"
   ]
  },
  {
   "cell_type": "code",
   "execution_count": 9,
   "metadata": {},
   "outputs": [],
   "source": [
    "from pyod.utils.utility import standardizer\n",
    "from pyod.utils.utility import precision_n_scores\n",
    "from sklearn.metrics import roc_auc_score"
   ]
  },
  {
   "cell_type": "markdown",
   "metadata": {},
   "source": [
    "# Define Data file and read X & Y"
   ]
  },
  {
   "cell_type": "code",
   "execution_count": 10,
   "metadata": {},
   "outputs": [],
   "source": [
    "my_list=['arrhythmia','cardio','glass','ionosphere','letter','lympho','mnist','musk','optdigits','pendigits','pima','satellite','satimage-2','shuttle','vertebral','vowels','wbc']"
   ]
  },
  {
   "cell_type": "code",
   "execution_count": 11,
   "metadata": {},
   "outputs": [
    {
     "data": {
      "text/plain": [
       "['arrhythmia',\n",
       " 'cardio',\n",
       " 'glass',\n",
       " 'ionosphere',\n",
       " 'letter',\n",
       " 'lympho',\n",
       " 'mnist',\n",
       " 'musk',\n",
       " 'optdigits',\n",
       " 'pendigits',\n",
       " 'pima',\n",
       " 'satellite',\n",
       " 'satimage-2',\n",
       " 'shuttle',\n",
       " 'vertebral',\n",
       " 'vowels',\n",
       " 'wbc']"
      ]
     },
     "execution_count": 11,
     "metadata": {},
     "output_type": "execute_result"
    }
   ],
   "source": [
    "my_list"
   ]
  },
  {
   "cell_type": "markdown",
   "metadata": {},
   "source": [
    "# How to load Matfile"
   ]
  },
  {
   "cell_type": "code",
   "execution_count": 12,
   "metadata": {},
   "outputs": [],
   "source": [
    "data=loadmat(\"D:\\\\LetsUpgrade\\\\Projects\\\\Anomaly Detection\\\\cardio.mat\")"
   ]
  },
  {
   "cell_type": "code",
   "execution_count": 13,
   "metadata": {},
   "outputs": [
    {
     "data": {
      "text/plain": [
       "5"
      ]
     },
     "execution_count": 13,
     "metadata": {},
     "output_type": "execute_result"
    }
   ],
   "source": [
    "len(data)"
   ]
  },
  {
   "cell_type": "code",
   "execution_count": 14,
   "metadata": {},
   "outputs": [
    {
     "data": {
      "text/plain": [
       "{'__header__': b'MATLAB 5.0 MAT-file, written by Octave 3.8.0, 2014-12-18 10:48:09 UTC',\n",
       " '__version__': '1.0',\n",
       " '__globals__': [],\n",
       " 'X': array([[ 0.00491231,  0.69319077, -0.20364049, ...,  0.23149795,\n",
       "         -0.28978574, -0.49329397],\n",
       "        [ 0.11072935, -0.07990259, -0.20364049, ...,  0.09356344,\n",
       "         -0.25638541, -0.49329397],\n",
       "        [ 0.21654639, -0.27244466, -0.20364049, ...,  0.02459619,\n",
       "         -0.25638541,  1.14001753],\n",
       "        ...,\n",
       "        [-0.41835583, -0.91998844, -0.16463485, ..., -1.49268341,\n",
       "          0.24461959, -0.49329397],\n",
       "        [-0.41835583, -0.91998844, -0.15093411, ..., -1.42371616,\n",
       "          0.14441859, -0.49329397],\n",
       "        [-0.41835583, -0.91998844, -0.20364049, ..., -1.28578165,\n",
       "          3.58465295, -0.49329397]]),\n",
       " 'y': array([[0.],\n",
       "        [0.],\n",
       "        [0.],\n",
       "        ...,\n",
       "        [1.],\n",
       "        [1.],\n",
       "        [1.]])}"
      ]
     },
     "execution_count": 14,
     "metadata": {},
     "output_type": "execute_result"
    }
   ],
   "source": [
    "data"
   ]
  },
  {
   "cell_type": "code",
   "execution_count": 15,
   "metadata": {},
   "outputs": [
    {
     "data": {
      "text/plain": [
       "dict_keys(['__header__', '__version__', '__globals__', 'X', 'y'])"
      ]
     },
     "execution_count": 15,
     "metadata": {},
     "output_type": "execute_result"
    }
   ],
   "source": [
    "data.keys()"
   ]
  },
  {
   "cell_type": "code",
   "execution_count": 16,
   "metadata": {},
   "outputs": [
    {
     "data": {
      "text/plain": [
       "dict_values([b'MATLAB 5.0 MAT-file, written by Octave 3.8.0, 2014-12-18 10:48:09 UTC', '1.0', [], array([[ 0.00491231,  0.69319077, -0.20364049, ...,  0.23149795,\n",
       "        -0.28978574, -0.49329397],\n",
       "       [ 0.11072935, -0.07990259, -0.20364049, ...,  0.09356344,\n",
       "        -0.25638541, -0.49329397],\n",
       "       [ 0.21654639, -0.27244466, -0.20364049, ...,  0.02459619,\n",
       "        -0.25638541,  1.14001753],\n",
       "       ...,\n",
       "       [-0.41835583, -0.91998844, -0.16463485, ..., -1.49268341,\n",
       "         0.24461959, -0.49329397],\n",
       "       [-0.41835583, -0.91998844, -0.15093411, ..., -1.42371616,\n",
       "         0.14441859, -0.49329397],\n",
       "       [-0.41835583, -0.91998844, -0.20364049, ..., -1.28578165,\n",
       "         3.58465295, -0.49329397]]), array([[0.],\n",
       "       [0.],\n",
       "       [0.],\n",
       "       ...,\n",
       "       [1.],\n",
       "       [1.],\n",
       "       [1.]])])"
      ]
     },
     "execution_count": 16,
     "metadata": {},
     "output_type": "execute_result"
    }
   ],
   "source": [
    "data.values()"
   ]
  },
  {
   "cell_type": "code",
   "execution_count": 17,
   "metadata": {},
   "outputs": [
    {
     "data": {
      "text/plain": [
       "dict"
      ]
     },
     "execution_count": 17,
     "metadata": {},
     "output_type": "execute_result"
    }
   ],
   "source": [
    "type(data)"
   ]
  },
  {
   "cell_type": "markdown",
   "metadata": {},
   "source": [
    "# Independent Features"
   ]
  },
  {
   "cell_type": "code",
   "execution_count": 18,
   "metadata": {},
   "outputs": [
    {
     "data": {
      "text/plain": [
       "(numpy.ndarray, (1831, 21))"
      ]
     },
     "execution_count": 18,
     "metadata": {},
     "output_type": "execute_result"
    }
   ],
   "source": [
    "type(data['X']),data['X'].shape"
   ]
  },
  {
   "cell_type": "markdown",
   "metadata": {},
   "source": [
    "# Dependent Variable"
   ]
  },
  {
   "cell_type": "code",
   "execution_count": 19,
   "metadata": {},
   "outputs": [
    {
     "data": {
      "text/plain": [
       "(numpy.ndarray, (1831, 1))"
      ]
     },
     "execution_count": 19,
     "metadata": {},
     "output_type": "execute_result"
    }
   ],
   "source": [
    "type(data['y']),data['y'].shape"
   ]
  },
  {
   "cell_type": "code",
   "execution_count": 20,
   "metadata": {},
   "outputs": [
    {
     "data": {
      "text/plain": [
       "(1831, 21)"
      ]
     },
     "execution_count": 20,
     "metadata": {},
     "output_type": "execute_result"
    }
   ],
   "source": [
    "data['X'].shape"
   ]
  },
  {
   "cell_type": "code",
   "execution_count": 21,
   "metadata": {},
   "outputs": [],
   "source": [
    "df_columns=['Data','Samples','Dimensions','outlier perc','ABOD','CBLOF','FB','HBOS','IFores','KNN','LOF','MCD','OCSVM','PCA']"
   ]
  },
  {
   "cell_type": "markdown",
   "metadata": {},
   "source": [
    "# ROC Curve: Region of characteristics"
   ]
  },
  {
   "cell_type": "code",
   "execution_count": 22,
   "metadata": {},
   "outputs": [],
   "source": [
    "roc_df=pd.DataFrame(columns=df_columns)"
   ]
  },
  {
   "cell_type": "code",
   "execution_count": 23,
   "metadata": {},
   "outputs": [
    {
     "data": {
      "text/html": [
       "<div>\n",
       "<style scoped>\n",
       "    .dataframe tbody tr th:only-of-type {\n",
       "        vertical-align: middle;\n",
       "    }\n",
       "\n",
       "    .dataframe tbody tr th {\n",
       "        vertical-align: top;\n",
       "    }\n",
       "\n",
       "    .dataframe thead th {\n",
       "        text-align: right;\n",
       "    }\n",
       "</style>\n",
       "<table border=\"1\" class=\"dataframe\">\n",
       "  <thead>\n",
       "    <tr style=\"text-align: right;\">\n",
       "      <th></th>\n",
       "      <th>Data</th>\n",
       "      <th>Samples</th>\n",
       "      <th>Dimensions</th>\n",
       "      <th>outlier perc</th>\n",
       "      <th>ABOD</th>\n",
       "      <th>CBLOF</th>\n",
       "      <th>FB</th>\n",
       "      <th>HBOS</th>\n",
       "      <th>IFores</th>\n",
       "      <th>KNN</th>\n",
       "      <th>LOF</th>\n",
       "      <th>MCD</th>\n",
       "      <th>OCSVM</th>\n",
       "      <th>PCA</th>\n",
       "    </tr>\n",
       "  </thead>\n",
       "  <tbody>\n",
       "  </tbody>\n",
       "</table>\n",
       "</div>"
      ],
      "text/plain": [
       "Empty DataFrame\n",
       "Columns: [Data, Samples, Dimensions, outlier perc, ABOD, CBLOF, FB, HBOS, IFores, KNN, LOF, MCD, OCSVM, PCA]\n",
       "Index: []"
      ]
     },
     "execution_count": 23,
     "metadata": {},
     "output_type": "execute_result"
    }
   ],
   "source": [
    "roc_df"
   ]
  },
  {
   "cell_type": "markdown",
   "metadata": {},
   "source": [
    "# Performance Evaluation table"
   ]
  },
  {
   "cell_type": "code",
   "execution_count": 24,
   "metadata": {},
   "outputs": [],
   "source": [
    "prn_df=pd.DataFrame(columns=df_columns)"
   ]
  },
  {
   "cell_type": "markdown",
   "metadata": {},
   "source": [
    "# Time DataFrame"
   ]
  },
  {
   "cell_type": "code",
   "execution_count": 25,
   "metadata": {},
   "outputs": [],
   "source": [
    "time_df=pd.DataFrame(columns=df_columns)"
   ]
  },
  {
   "cell_type": "markdown",
   "metadata": {},
   "source": [
    "# Exploring all matfiles"
   ]
  },
  {
   "cell_type": "code",
   "execution_count": 26,
   "metadata": {},
   "outputs": [
    {
     "name": "stdout",
     "output_type": "stream",
     "text": [
      "\n",
      "...Processing arrhythmia ...\n",
      "Angle Based outlier detector ROC:0.7687, precision @ rank n:0.3571,execution time:7.6262s\n"
     ]
    },
    {
     "name": "stderr",
     "output_type": "stream",
     "text": [
      "C:\\Users\\Ash\\Anaconda3\\lib\\site-packages\\sklearn\\cluster\\_kmeans.py:974: FutureWarning: 'n_jobs' was deprecated in version 0.23 and will be removed in 0.25.\n",
      "  \" removed in 0.25.\", FutureWarning)\n"
     ]
    },
    {
     "name": "stdout",
     "output_type": "stream",
     "text": [
      "Cluster Based outlier Factor ROC:0.7803, precision @ rank n:0.4643,execution time:6.1275s\n",
      "Feature Bagging ROC:0.7775, precision @ rank n:0.4643,execution time:1.666s\n",
      "Histogram Based outlier Detection ROC:0.8511, precision @ rank n:0.5714,execution time:9.2048s\n",
      "Isolation Forest ROC:0.8184, precision @ rank n:0.5357,execution time:2.5644s\n",
      "K Nearest Neighbors ROC:0.782, precision @ rank n:0.5,execution time:0.2978s\n",
      "Local outlier Factor ROC:0.7787, precision @ rank n:0.4643,execution time:0.1949s\n"
     ]
    },
    {
     "name": "stderr",
     "output_type": "stream",
     "text": [
      "C:\\Users\\Ash\\Anaconda3\\lib\\site-packages\\sklearn\\covariance\\_robust_covariance.py:647: UserWarning: The covariance matrix associated to your dataset is not full rank\n",
      "  warnings.warn(\"The covariance matrix associated to your dataset \"\n"
     ]
    },
    {
     "name": "stdout",
     "output_type": "stream",
     "text": [
      "Minimum Covariance Determinat ROC:0.8228, precision @ rank n:0.4286,execution time:2.8682s\n",
      "Principal Component Analysis ROC:0.8, precision @ rank n:0.5,execution time:0.2149s\n",
      "One Class SVM ROC:0.7986, precision @ rank n:0.5,execution time:0.0989s\n",
      "\n",
      "...Processing cardio ...\n",
      "Angle Based outlier detector ROC:0.5928, precision @ rank n:0.2838,execution time:2.0997s\n"
     ]
    },
    {
     "name": "stderr",
     "output_type": "stream",
     "text": [
      "C:\\Users\\Ash\\Anaconda3\\lib\\site-packages\\sklearn\\cluster\\_kmeans.py:974: FutureWarning: 'n_jobs' was deprecated in version 0.23 and will be removed in 0.25.\n",
      "  \" removed in 0.25.\", FutureWarning)\n"
     ]
    },
    {
     "name": "stdout",
     "output_type": "stream",
     "text": [
      "Cluster Based outlier Factor ROC:0.8609, precision @ rank n:0.5541,execution time:0.5277s\n",
      "Feature Bagging ROC:0.6407, precision @ rank n:0.2162,execution time:3.3659s\n",
      "Histogram Based outlier Detection ROC:0.87, precision @ rank n:0.5135,execution time:0.02s\n",
      "Isolation Forest ROC:0.9314, precision @ rank n:0.527,execution time:1.5231s\n",
      "K Nearest Neighbors ROC:0.7642, precision @ rank n:0.4054,execution time:0.6066s\n",
      "Local outlier Factor ROC:0.6432, precision @ rank n:0.2162,execution time:0.3228s\n"
     ]
    },
    {
     "name": "stderr",
     "output_type": "stream",
     "text": [
      "C:\\Users\\Ash\\Anaconda3\\lib\\site-packages\\sklearn\\covariance\\_robust_covariance.py:647: UserWarning: The covariance matrix associated to your dataset is not full rank\n",
      "  warnings.warn(\"The covariance matrix associated to your dataset \"\n",
      "C:\\Users\\Ash\\Anaconda3\\lib\\site-packages\\sklearn\\covariance\\_robust_covariance.py:171: RuntimeWarning: Determinant has increased; this should not happen: log(det) > log(previous_det) (-154.597415168454006 > -224.648996737891252). You may want to try with a higher value of support_fraction (current value: 0.511).\n",
      "  RuntimeWarning)\n",
      "C:\\Users\\Ash\\Anaconda3\\lib\\site-packages\\sklearn\\covariance\\_robust_covariance.py:171: RuntimeWarning: Determinant has increased; this should not happen: log(det) > log(previous_det) (-157.555798564372594 > -222.936489660630059). You may want to try with a higher value of support_fraction (current value: 0.511).\n",
      "  RuntimeWarning)\n",
      "C:\\Users\\Ash\\Anaconda3\\lib\\site-packages\\sklearn\\covariance\\_robust_covariance.py:171: RuntimeWarning: Determinant has increased; this should not happen: log(det) > log(previous_det) (-155.374135426445235 > -226.182511763644357). You may want to try with a higher value of support_fraction (current value: 0.511).\n",
      "  RuntimeWarning)\n",
      "C:\\Users\\Ash\\Anaconda3\\lib\\site-packages\\sklearn\\covariance\\_robust_covariance.py:171: RuntimeWarning: Determinant has increased; this should not happen: log(det) > log(previous_det) (-155.957887034344708 > -224.097097290662333). You may want to try with a higher value of support_fraction (current value: 0.511).\n",
      "  RuntimeWarning)\n",
      "C:\\Users\\Ash\\Anaconda3\\lib\\site-packages\\sklearn\\covariance\\_robust_covariance.py:171: RuntimeWarning: Determinant has increased; this should not happen: log(det) > log(previous_det) (-154.583793473940233 > -224.244099309188471). You may want to try with a higher value of support_fraction (current value: 0.511).\n",
      "  RuntimeWarning)\n",
      "C:\\Users\\Ash\\Anaconda3\\lib\\site-packages\\sklearn\\covariance\\_robust_covariance.py:171: RuntimeWarning: Determinant has increased; this should not happen: log(det) > log(previous_det) (-225.958384837827168 > -255.425611245840940). You may want to try with a higher value of support_fraction (current value: 0.511).\n",
      "  RuntimeWarning)\n",
      "C:\\Users\\Ash\\Anaconda3\\lib\\site-packages\\sklearn\\covariance\\_robust_covariance.py:171: RuntimeWarning: Determinant has increased; this should not happen: log(det) > log(previous_det) (-156.716617740144500 > -230.313741325045243). You may want to try with a higher value of support_fraction (current value: 0.511).\n",
      "  RuntimeWarning)\n",
      "C:\\Users\\Ash\\Anaconda3\\lib\\site-packages\\sklearn\\covariance\\_robust_covariance.py:171: RuntimeWarning: Determinant has increased; this should not happen: log(det) > log(previous_det) (-232.574475298534338 > -258.340009510592665). You may want to try with a higher value of support_fraction (current value: 0.511).\n",
      "  RuntimeWarning)\n",
      "C:\\Users\\Ash\\Anaconda3\\lib\\site-packages\\sklearn\\covariance\\_robust_covariance.py:171: RuntimeWarning: Determinant has increased; this should not happen: log(det) > log(previous_det) (-156.696897430506738 > -226.507089406171673). You may want to try with a higher value of support_fraction (current value: 0.511).\n",
      "  RuntimeWarning)\n",
      "C:\\Users\\Ash\\Anaconda3\\lib\\site-packages\\sklearn\\covariance\\_robust_covariance.py:171: RuntimeWarning: Determinant has increased; this should not happen: log(det) > log(previous_det) (-153.324683496583503 > -224.127088413210856). You may want to try with a higher value of support_fraction (current value: 0.510).\n",
      "  RuntimeWarning)\n",
      "C:\\Users\\Ash\\Anaconda3\\lib\\site-packages\\sklearn\\covariance\\_robust_covariance.py:171: RuntimeWarning: Determinant has increased; this should not happen: log(det) > log(previous_det) (-154.219845360066927 > -223.371838972926042). You may want to try with a higher value of support_fraction (current value: 0.510).\n",
      "  RuntimeWarning)\n",
      "C:\\Users\\Ash\\Anaconda3\\lib\\site-packages\\sklearn\\covariance\\_robust_covariance.py:171: RuntimeWarning: Determinant has increased; this should not happen: log(det) > log(previous_det) (-224.282074471944838 > -225.873950445442290). You may want to try with a higher value of support_fraction (current value: 0.510).\n",
      "  RuntimeWarning)\n",
      "C:\\Users\\Ash\\Anaconda3\\lib\\site-packages\\sklearn\\covariance\\_robust_covariance.py:171: RuntimeWarning: Determinant has increased; this should not happen: log(det) > log(previous_det) (-153.568798192098456 > -222.791189734400149). You may want to try with a higher value of support_fraction (current value: 0.510).\n",
      "  RuntimeWarning)\n"
     ]
    },
    {
     "name": "stdout",
     "output_type": "stream",
     "text": [
      "Minimum Covariance Determinat ROC:0.8587, precision @ rank n:0.4324,execution time:2.5804s\n",
      "Principal Component Analysis ROC:0.9581, precision @ rank n:0.6216,execution time:0.031s\n",
      "One Class SVM ROC:0.9462, precision @ rank n:0.527,execution time:0.3208s\n",
      "\n",
      "...Processing glass ...\n",
      "Angle Based outlier detector ROC:0.7805, precision @ rank n:0.25,execution time:0.3348s\n"
     ]
    },
    {
     "name": "stderr",
     "output_type": "stream",
     "text": [
      "C:\\Users\\Ash\\Anaconda3\\lib\\site-packages\\sklearn\\cluster\\_kmeans.py:974: FutureWarning: 'n_jobs' was deprecated in version 0.23 and will be removed in 0.25.\n",
      "  \" removed in 0.25.\", FutureWarning)\n"
     ]
    },
    {
     "name": "stdout",
     "output_type": "stream",
     "text": [
      "Cluster Based outlier Factor ROC:0.9116, precision @ rank n:0.25,execution time:0.4697s\n",
      "Feature Bagging ROC:0.7805, precision @ rank n:0.25,execution time:0.2918s\n",
      "Histogram Based outlier Detection ROC:0.7256, precision @ rank n:0.25,execution time:0.037s\n",
      "Isolation Forest ROC:0.7622, precision @ rank n:0.25,execution time:1.3212s\n",
      "K Nearest Neighbors ROC:0.8902, precision @ rank n:0.25,execution time:0.031s\n",
      "Local outlier Factor ROC:0.7287, precision @ rank n:0.25,execution time:0.009s\n"
     ]
    },
    {
     "name": "stderr",
     "output_type": "stream",
     "text": [
      "C:\\Users\\Ash\\Anaconda3\\lib\\site-packages\\sklearn\\covariance\\_robust_covariance.py:171: RuntimeWarning: Determinant has increased; this should not happen: log(det) > log(previous_det) (-29.456973809953023 > -93.264867512175542). You may want to try with a higher value of support_fraction (current value: 0.539).\n",
      "  RuntimeWarning)\n",
      "C:\\Users\\Ash\\Anaconda3\\lib\\site-packages\\sklearn\\covariance\\_robust_covariance.py:171: RuntimeWarning: Determinant has increased; this should not happen: log(det) > log(previous_det) (-29.537884733666825 > -93.303896447144226). You may want to try with a higher value of support_fraction (current value: 0.539).\n",
      "  RuntimeWarning)\n",
      "C:\\Users\\Ash\\Anaconda3\\lib\\site-packages\\sklearn\\covariance\\_robust_covariance.py:171: RuntimeWarning: Determinant has increased; this should not happen: log(det) > log(previous_det) (-29.456973809953023 > -93.290201669515938). You may want to try with a higher value of support_fraction (current value: 0.539).\n",
      "  RuntimeWarning)\n",
      "C:\\Users\\Ash\\Anaconda3\\lib\\site-packages\\sklearn\\covariance\\_robust_covariance.py:171: RuntimeWarning: Determinant has increased; this should not happen: log(det) > log(previous_det) (-29.382381110533426 > -93.186741282438376). You may want to try with a higher value of support_fraction (current value: 0.539).\n",
      "  RuntimeWarning)\n",
      "C:\\Users\\Ash\\Anaconda3\\lib\\site-packages\\sklearn\\covariance\\_robust_covariance.py:171: RuntimeWarning: Determinant has increased; this should not happen: log(det) > log(previous_det) (-29.696812360337596 > -93.265586577476554). You may want to try with a higher value of support_fraction (current value: 0.539).\n",
      "  RuntimeWarning)\n",
      "C:\\Users\\Ash\\Anaconda3\\lib\\site-packages\\sklearn\\covariance\\_robust_covariance.py:171: RuntimeWarning: Determinant has increased; this should not happen: log(det) > log(previous_det) (-29.464647391380119 > -93.198137100014563). You may want to try with a higher value of support_fraction (current value: 0.539).\n",
      "  RuntimeWarning)\n",
      "C:\\Users\\Ash\\Anaconda3\\lib\\site-packages\\sklearn\\covariance\\_robust_covariance.py:171: RuntimeWarning: Determinant has increased; this should not happen: log(det) > log(previous_det) (-29.398015368206210 > -93.145019707720920). You may want to try with a higher value of support_fraction (current value: 0.539).\n",
      "  RuntimeWarning)\n",
      "C:\\Users\\Ash\\Anaconda3\\lib\\site-packages\\sklearn\\covariance\\_robust_covariance.py:171: RuntimeWarning: Determinant has increased; this should not happen: log(det) > log(previous_det) (-29.412252715205575 > -93.206248735002632). You may want to try with a higher value of support_fraction (current value: 0.539).\n",
      "  RuntimeWarning)\n"
     ]
    },
    {
     "name": "stdout",
     "output_type": "stream",
     "text": [
      "Minimum Covariance Determinat ROC:0.8079, precision @ rank n:0.0,execution time:0.1599s\n",
      "Principal Component Analysis ROC:0.747, precision @ rank n:0.25,execution time:0.008s\n",
      "One Class SVM ROC:0.753, precision @ rank n:0.25,execution time:0.009s\n",
      "\n",
      "...Processing ionosphere ...\n",
      "Angle Based outlier detector ROC:0.9247, precision @ rank n:0.8868,execution time:0.3338s\n",
      "Cluster Based outlier Factor ROC:0.8846, precision @ rank n:0.7736,execution time:0.1939s"
     ]
    },
    {
     "name": "stderr",
     "output_type": "stream",
     "text": [
      "C:\\Users\\Ash\\Anaconda3\\lib\\site-packages\\sklearn\\cluster\\_kmeans.py:974: FutureWarning: 'n_jobs' was deprecated in version 0.23 and will be removed in 0.25.\n",
      "  \" removed in 0.25.\", FutureWarning)\n"
     ]
    },
    {
     "name": "stdout",
     "output_type": "stream",
     "text": [
      "\n",
      "Feature Bagging ROC:0.9337, precision @ rank n:0.8113,execution time:0.2429s\n",
      "Histogram Based outlier Detection ROC:0.5154, precision @ rank n:0.3585,execution time:0.038s\n",
      "Isolation Forest ROC:0.8538, precision @ rank n:0.6792,execution time:1.587s\n",
      "K Nearest Neighbors ROC:0.9226, precision @ rank n:0.8868,execution time:0.1299s\n",
      "Local outlier Factor ROC:0.9312, precision @ rank n:0.7736,execution time:0.02s\n",
      "Minimum Covariance Determinat ROC:0.9659, precision @ rank n:0.9057,execution time:0.4417s\n",
      "Principal Component Analysis ROC:0.8068, precision @ rank n:0.6226,execution time:0.007s\n",
      "One Class SVM ROC:0.8799, precision @ rank n:0.7736,execution time:0.013s\n",
      "\n",
      "...Processing letter ...\n",
      "Angle Based outlier detector ROC:0.8949, precision @ rank n:0.3721,execution time:1.7569s\n"
     ]
    },
    {
     "name": "stderr",
     "output_type": "stream",
     "text": [
      "C:\\Users\\Ash\\Anaconda3\\lib\\site-packages\\sklearn\\cluster\\_kmeans.py:974: FutureWarning: 'n_jobs' was deprecated in version 0.23 and will be removed in 0.25.\n",
      "  \" removed in 0.25.\", FutureWarning)\n"
     ]
    },
    {
     "name": "stdout",
     "output_type": "stream",
     "text": [
      "Cluster Based outlier Factor ROC:0.7641, precision @ rank n:0.2558,execution time:0.3928s\n",
      "Feature Bagging ROC:0.8948, precision @ rank n:0.4651,execution time:3.0521s\n",
      "Histogram Based outlier Detection ROC:0.6248, precision @ rank n:0.093,execution time:0.039s\n",
      "Isolation Forest ROC:0.6031, precision @ rank n:0.0698,execution time:1.4221s\n",
      "K Nearest Neighbors ROC:0.8689, precision @ rank n:0.3488,execution time:0.4397s\n",
      "Local outlier Factor ROC:0.8781, precision @ rank n:0.3721,execution time:0.2938s\n",
      "Minimum Covariance Determinat ROC:0.8256, precision @ rank n:0.2326,execution time:5.7165s\n",
      "Principal Component Analysis ROC:0.5142, precision @ rank n:0.1163,execution time:0.015s\n",
      "One Class SVM ROC:0.5827, precision @ rank n:0.1395,execution time:0.2558s\n",
      "\n",
      "...Processing lympho ...\n",
      "Angle Based outlier detector ROC:0.9138, precision @ rank n:0.0,execution time:0.1169s\n"
     ]
    },
    {
     "name": "stderr",
     "output_type": "stream",
     "text": [
      "C:\\Users\\Ash\\Anaconda3\\lib\\site-packages\\sklearn\\cluster\\_kmeans.py:974: FutureWarning: 'n_jobs' was deprecated in version 0.23 and will be removed in 0.25.\n",
      "  \" removed in 0.25.\", FutureWarning)\n"
     ]
    },
    {
     "name": "stdout",
     "output_type": "stream",
     "text": [
      "Cluster Based outlier Factor ROC:1.0, precision @ rank n:1.0,execution time:0.3818s\n",
      "Feature Bagging ROC:1.0, precision @ rank n:1.0,execution time:0.1009s\n",
      "Histogram Based outlier Detection ROC:1.0, precision @ rank n:1.0,execution time:0.015s\n",
      "Isolation Forest ROC:1.0, precision @ rank n:1.0,execution time:0.9334s\n",
      "K Nearest Neighbors ROC:0.9828, precision @ rank n:0.5,execution time:0.024s\n",
      "Local outlier Factor ROC:1.0, precision @ rank n:1.0,execution time:0.009s\n"
     ]
    },
    {
     "name": "stderr",
     "output_type": "stream",
     "text": [
      "C:\\Users\\Ash\\Anaconda3\\lib\\site-packages\\sklearn\\covariance\\_robust_covariance.py:171: RuntimeWarning: Determinant has increased; this should not happen: log(det) > log(previous_det) (-85.436281456158824 > -368.223666617395224). You may want to try with a higher value of support_fraction (current value: 0.614).\n",
      "  RuntimeWarning)\n",
      "C:\\Users\\Ash\\Anaconda3\\lib\\site-packages\\sklearn\\covariance\\_robust_covariance.py:171: RuntimeWarning: Determinant has increased; this should not happen: log(det) > log(previous_det) (-260.916327679517508 > -365.974889452002856). You may want to try with a higher value of support_fraction (current value: 0.614).\n",
      "  RuntimeWarning)\n",
      "C:\\Users\\Ash\\Anaconda3\\lib\\site-packages\\sklearn\\covariance\\_robust_covariance.py:171: RuntimeWarning: Determinant has increased; this should not happen: log(det) > log(previous_det) (-118.896383259364640 > -367.185828893884491). You may want to try with a higher value of support_fraction (current value: 0.614).\n",
      "  RuntimeWarning)\n",
      "C:\\Users\\Ash\\Anaconda3\\lib\\site-packages\\sklearn\\covariance\\_robust_covariance.py:171: RuntimeWarning: Determinant has increased; this should not happen: log(det) > log(previous_det) (-84.898455608657258 > -365.926199356269933). You may want to try with a higher value of support_fraction (current value: 0.614).\n",
      "  RuntimeWarning)\n",
      "C:\\Users\\Ash\\Anaconda3\\lib\\site-packages\\sklearn\\covariance\\_robust_covariance.py:171: RuntimeWarning: Determinant has increased; this should not happen: log(det) > log(previous_det) (-260.087376695475768 > -367.328957845678474). You may want to try with a higher value of support_fraction (current value: 0.614).\n",
      "  RuntimeWarning)\n",
      "C:\\Users\\Ash\\Anaconda3\\lib\\site-packages\\sklearn\\covariance\\_robust_covariance.py:171: RuntimeWarning: Determinant has increased; this should not happen: log(det) > log(previous_det) (-117.296914118287589 > -366.754022462005480). You may want to try with a higher value of support_fraction (current value: 0.614).\n",
      "  RuntimeWarning)\n",
      "C:\\Users\\Ash\\Anaconda3\\lib\\site-packages\\sklearn\\covariance\\_robust_covariance.py:171: RuntimeWarning: Determinant has increased; this should not happen: log(det) > log(previous_det) (-193.540342714757145 > -368.357412659209217). You may want to try with a higher value of support_fraction (current value: 0.614).\n",
      "  RuntimeWarning)\n"
     ]
    },
    {
     "name": "stdout",
     "output_type": "stream",
     "text": [
      "Minimum Covariance Determinat ROC:0.8966, precision @ rank n:0.5,execution time:0.1999s\n",
      "Principal Component Analysis ROC:1.0, precision @ rank n:1.0,execution time:0.009s\n",
      "One Class SVM ROC:1.0, precision @ rank n:1.0,execution time:0.007s\n",
      "\n",
      "...Processing mnist ...\n",
      "Angle Based outlier detector ROC:0.7682, precision @ rank n:0.3643,execution time:26.0899s\n"
     ]
    },
    {
     "name": "stderr",
     "output_type": "stream",
     "text": [
      "C:\\Users\\Ash\\Anaconda3\\lib\\site-packages\\sklearn\\cluster\\_kmeans.py:974: FutureWarning: 'n_jobs' was deprecated in version 0.23 and will be removed in 0.25.\n",
      "  \" removed in 0.25.\", FutureWarning)\n"
     ]
    },
    {
     "name": "stdout",
     "output_type": "stream",
     "text": [
      "Cluster Based outlier Factor ROC:0.8583, precision @ rank n:0.4126,execution time:3.268s\n",
      "Feature Bagging ROC:0.6929, precision @ rank n:0.3346,execution time:144.0028s\n",
      "Histogram Based outlier Detection ROC:0.5578, precision @ rank n:0.0967,execution time:0.1499s\n",
      "Isolation Forest ROC:0.8257, precision @ rank n:0.316,execution time:5.1308s\n",
      "K Nearest Neighbors ROC:0.8423, precision @ rank n:0.4349,execution time:15.7093s\n",
      "Local outlier Factor ROC:0.7012, precision @ rank n:0.3309,execution time:14.7279s\n"
     ]
    },
    {
     "name": "stderr",
     "output_type": "stream",
     "text": [
      "C:\\Users\\Ash\\Anaconda3\\lib\\site-packages\\sklearn\\covariance\\_robust_covariance.py:647: UserWarning: The covariance matrix associated to your dataset is not full rank\n",
      "  warnings.warn(\"The covariance matrix associated to your dataset \"\n"
     ]
    },
    {
     "name": "stdout",
     "output_type": "stream",
     "text": [
      "Minimum Covariance Determinat ROC:0.8498, precision @ rank n:0.2268,execution time:9.0054s\n",
      "Principal Component Analysis ROC:0.8613, precision @ rank n:0.3903,execution time:0.3668s\n",
      "One Class SVM ROC:0.8622, precision @ rank n:0.4015,execution time:10.1777s\n",
      "\n",
      "...Processing musk ...\n",
      "Angle Based outlier detector ROC:0.1012, precision @ rank n:0.0294,execution time:5.8884s\n"
     ]
    },
    {
     "name": "stderr",
     "output_type": "stream",
     "text": [
      "C:\\Users\\Ash\\Anaconda3\\lib\\site-packages\\sklearn\\cluster\\_kmeans.py:974: FutureWarning: 'n_jobs' was deprecated in version 0.23 and will be removed in 0.25.\n",
      "  \" removed in 0.25.\", FutureWarning)\n"
     ]
    },
    {
     "name": "stdout",
     "output_type": "stream",
     "text": [
      "Cluster Based outlier Factor ROC:1.0, precision @ rank n:1.0,execution time:0.6807s\n",
      "Feature Bagging ROC:0.5627, precision @ rank n:0.1471,execution time:27.4691s\n",
      "Histogram Based outlier Detection ROC:1.0, precision @ rank n:1.0,execution time:0.1979s\n",
      "Isolation Forest ROC:1.0, precision @ rank n:1.0,execution time:3.5468s\n",
      "K Nearest Neighbors ROC:0.7729, precision @ rank n:0.2059,execution time:4.1964s\n",
      "Local outlier Factor ROC:0.5567, precision @ rank n:0.1471,execution time:3.6857s\n",
      "Minimum Covariance Determinat ROC:1.0, precision @ rank n:1.0,execution time:36.2097s\n",
      "Principal Component Analysis ROC:1.0, precision @ rank n:1.0,execution time:0.3348s\n",
      "One Class SVM ROC:1.0, precision @ rank n:1.0,execution time:2.4555s\n",
      "\n",
      "...Processing optdigits ...\n",
      "Angle Based outlier detector ROC:0.4601, precision @ rank n:0.0,execution time:9.1144s\n"
     ]
    },
    {
     "name": "stderr",
     "output_type": "stream",
     "text": [
      "C:\\Users\\Ash\\Anaconda3\\lib\\site-packages\\sklearn\\cluster\\_kmeans.py:974: FutureWarning: 'n_jobs' was deprecated in version 0.23 and will be removed in 0.25.\n",
      "  \" removed in 0.25.\", FutureWarning)\n"
     ]
    },
    {
     "name": "stdout",
     "output_type": "stream",
     "text": [
      "Cluster Based outlier Factor ROC:0.7186, precision @ rank n:0.0,execution time:0.9654s\n",
      "Feature Bagging ROC:0.4174, precision @ rank n:0.0492,execution time:38.5942s\n",
      "Histogram Based outlier Detection ROC:0.8962, precision @ rank n:0.1803,execution time:0.0979s\n",
      "Isolation Forest ROC:0.7042, precision @ rank n:0.0328,execution time:2.6873s\n",
      "K Nearest Neighbors ROC:0.3717, precision @ rank n:0.0,execution time:5.1508s\n",
      "Local outlier Factor ROC:0.4191, precision @ rank n:0.0164,execution time:4.887s\n"
     ]
    },
    {
     "name": "stderr",
     "output_type": "stream",
     "text": [
      "C:\\Users\\Ash\\Anaconda3\\lib\\site-packages\\sklearn\\covariance\\_robust_covariance.py:647: UserWarning: The covariance matrix associated to your dataset is not full rank\n",
      "  warnings.warn(\"The covariance matrix associated to your dataset \"\n"
     ]
    },
    {
     "name": "stdout",
     "output_type": "stream",
     "text": [
      "Minimum Covariance Determinat ROC:0.3802, precision @ rank n:0.0,execution time:4.819s\n",
      "Principal Component Analysis ROC:0.507, precision @ rank n:0.0,execution time:0.1829s\n",
      "One Class SVM ROC:0.4817, precision @ rank n:0.0,execution time:4.0905s\n",
      "\n",
      "...Processing pendigits ...\n",
      "Angle Based outlier detector ROC:0.677, precision @ rank n:0.0725,execution time:7.8422s\n"
     ]
    },
    {
     "name": "stderr",
     "output_type": "stream",
     "text": [
      "C:\\Users\\Ash\\Anaconda3\\lib\\site-packages\\sklearn\\cluster\\_kmeans.py:974: FutureWarning: 'n_jobs' was deprecated in version 0.23 and will be removed in 0.25.\n",
      "  \" removed in 0.25.\", FutureWarning)\n"
     ]
    },
    {
     "name": "stdout",
     "output_type": "stream",
     "text": [
      "Cluster Based outlier Factor ROC:0.9682, precision @ rank n:0.3623,execution time:1.0543s\n",
      "Feature Bagging ROC:0.4491, precision @ rank n:0.0725,execution time:15.3535s\n",
      "Histogram Based outlier Detection ROC:0.9261, precision @ rank n:0.2609,execution time:0.027s\n",
      "Isolation Forest ROC:0.9497, precision @ rank n:0.3188,execution time:2.2876s\n",
      "K Nearest Neighbors ROC:0.7603, precision @ rank n:0.1594,execution time:1.9518s\n",
      "Local outlier Factor ROC:0.4578, precision @ rank n:0.0725,execution time:1.557s\n",
      "Minimum Covariance Determinat ROC:0.8376, precision @ rank n:0.1159,execution time:7.2026s\n",
      "Principal Component Analysis ROC:0.9402, precision @ rank n:0.3478,execution time:0.029s\n",
      "One Class SVM ROC:0.946, precision @ rank n:0.3333,execution time:3.0301s\n",
      "\n",
      "...Processing pima ...\n",
      "Angle Based outlier detector ROC:0.665, precision @ rank n:0.4314,execution time:0.6386s\n"
     ]
    },
    {
     "name": "stderr",
     "output_type": "stream",
     "text": [
      "C:\\Users\\Ash\\Anaconda3\\lib\\site-packages\\sklearn\\cluster\\_kmeans.py:974: FutureWarning: 'n_jobs' was deprecated in version 0.23 and will be removed in 0.25.\n",
      "  \" removed in 0.25.\", FutureWarning)\n"
     ]
    },
    {
     "name": "stdout",
     "output_type": "stream",
     "text": [
      "Cluster Based outlier Factor ROC:0.6752, precision @ rank n:0.4608,execution time:0.2179s\n",
      "Feature Bagging ROC:0.6414, precision @ rank n:0.4118,execution time:0.3088s\n",
      "Histogram Based outlier Detection ROC:0.7029, precision @ rank n:0.5392,execution time:0.01s\n",
      "Isolation Forest ROC:0.679, precision @ rank n:0.4608,execution time:1.1143s\n",
      "K Nearest Neighbors ROC:0.7123, precision @ rank n:0.5,execution time:0.1429s\n",
      "Local outlier Factor ROC:0.6621, precision @ rank n:0.4706,execution time:0.031s\n",
      "Minimum Covariance Determinat ROC:0.6977, precision @ rank n:0.4804,execution time:0.1979s\n",
      "Principal Component Analysis ROC:0.6444, precision @ rank n:0.451,execution time:0.008s\n",
      "One Class SVM ROC:0.6423, precision @ rank n:0.4412,execution time:0.035s\n",
      "\n",
      "...Processing satellite ...\n",
      "Angle Based outlier detector ROC:0.5598, precision @ rank n:0.3723,execution time:7.3804s\n"
     ]
    },
    {
     "name": "stderr",
     "output_type": "stream",
     "text": [
      "C:\\Users\\Ash\\Anaconda3\\lib\\site-packages\\sklearn\\cluster\\_kmeans.py:974: FutureWarning: 'n_jobs' was deprecated in version 0.23 and will be removed in 0.25.\n",
      "  \" removed in 0.25.\", FutureWarning)\n"
     ]
    },
    {
     "name": "stdout",
     "output_type": "stream",
     "text": [
      "Cluster Based outlier Factor ROC:0.7158, precision @ rank n:0.5346,execution time:0.8465s\n",
      "Feature Bagging ROC:0.5329, precision @ rank n:0.3572,execution time:23.5455s\n",
      "Histogram Based outlier Detection ROC:0.7574, precision @ rank n:0.5585,execution time:0.056s\n",
      "Isolation Forest ROC:0.6803, precision @ rank n:0.5245,execution time:2.3945s\n",
      "K Nearest Neighbors ROC:0.6755, precision @ rank n:0.4818,execution time:4.4822s\n",
      "Local outlier Factor ROC:0.5339, precision @ rank n:0.3572,execution time:2.5454s\n",
      "Minimum Covariance Determinat ROC:0.7864, precision @ rank n:0.6692,execution time:7.7702s\n",
      "Principal Component Analysis ROC:0.5762, precision @ rank n:0.4642,execution time:0.059s\n",
      "One Class SVM ROC:0.6437, precision @ rank n:0.5119,execution time:3.6368s\n",
      "\n",
      "...Processing satimage-2 ...\n",
      "Angle Based outlier detector ROC:0.8675, precision @ rank n:0.3333,execution time:6.399s\n"
     ]
    },
    {
     "name": "stderr",
     "output_type": "stream",
     "text": [
      "C:\\Users\\Ash\\Anaconda3\\lib\\site-packages\\sklearn\\cluster\\_kmeans.py:974: FutureWarning: 'n_jobs' was deprecated in version 0.23 and will be removed in 0.25.\n",
      "  \" removed in 0.25.\", FutureWarning)\n"
     ]
    },
    {
     "name": "stdout",
     "output_type": "stream",
     "text": [
      "Cluster Based outlier Factor ROC:0.9998, precision @ rank n:0.9259,execution time:0.8095s\n",
      "Feature Bagging ROC:0.5683, precision @ rank n:0.1111,execution time:18.1738s\n",
      "Histogram Based outlier Detection ROC:0.9809, precision @ rank n:0.6667,execution time:0.058s\n",
      "Isolation Forest ROC:0.9955, precision @ rank n:0.7778,execution time:2.2586s\n",
      "K Nearest Neighbors ROC:0.9595, precision @ rank n:0.4444,execution time:2.9382s\n",
      "Local outlier Factor ROC:0.5699, precision @ rank n:0.1111,execution time:2.3955s\n",
      "Minimum Covariance Determinat ROC:0.9965, precision @ rank n:0.6296,execution time:8.3408s\n",
      "Principal Component Analysis ROC:0.9834, precision @ rank n:0.8148,execution time:0.0999s\n",
      "One Class SVM ROC:0.9997, precision @ rank n:0.8889,execution time:3.8846s\n",
      "\n",
      "...Processing shuttle ...\n",
      "Angle Based outlier detector ROC:0.6096, precision @ rank n:0.1853,execution time:67.2428s\n"
     ]
    },
    {
     "name": "stderr",
     "output_type": "stream",
     "text": [
      "C:\\Users\\Ash\\Anaconda3\\lib\\site-packages\\sklearn\\cluster\\_kmeans.py:974: FutureWarning: 'n_jobs' was deprecated in version 0.23 and will be removed in 0.25.\n",
      "  \" removed in 0.25.\", FutureWarning)\n"
     ]
    },
    {
     "name": "stdout",
     "output_type": "stream",
     "text": [
      "Cluster Based outlier Factor ROC:0.5871, precision @ rank n:0.2339,execution time:1.9688s\n",
      "Feature Bagging ROC:0.4867, precision @ rank n:0.073,execution time:167.4187s\n",
      "Histogram Based outlier Detection ROC:0.9842, precision @ rank n:0.9896,execution time:0.062s\n",
      "Isolation Forest ROC:0.9979, precision @ rank n:0.9628,execution time:9.7835s\n",
      "K Nearest Neighbors ROC:0.643, precision @ rank n:0.2153,execution time:25.896s\n",
      "Local outlier Factor ROC:0.529, precision @ rank n:0.1323,execution time:33.3024s\n"
     ]
    },
    {
     "name": "stderr",
     "output_type": "stream",
     "text": [
      "C:\\Users\\Ash\\Anaconda3\\lib\\site-packages\\sklearn\\covariance\\_robust_covariance.py:171: RuntimeWarning: Determinant has increased; this should not happen: log(det) > log(previous_det) (-51.329553371152713 > -77.906893393413867). You may want to try with a higher value of support_fraction (current value: 0.503).\n",
      "  RuntimeWarning)\n",
      "C:\\Users\\Ash\\Anaconda3\\lib\\site-packages\\sklearn\\covariance\\_robust_covariance.py:171: RuntimeWarning: Determinant has increased; this should not happen: log(det) > log(previous_det) (-50.144629141754841 > -79.508285228886393). You may want to try with a higher value of support_fraction (current value: 0.503).\n",
      "  RuntimeWarning)\n",
      "C:\\Users\\Ash\\Anaconda3\\lib\\site-packages\\sklearn\\covariance\\_robust_covariance.py:171: RuntimeWarning: Determinant has increased; this should not happen: log(det) > log(previous_det) (-49.662311388927499 > -77.769479052609753). You may want to try with a higher value of support_fraction (current value: 0.503).\n",
      "  RuntimeWarning)\n",
      "C:\\Users\\Ash\\Anaconda3\\lib\\site-packages\\sklearn\\covariance\\_robust_covariance.py:171: RuntimeWarning: Determinant has increased; this should not happen: log(det) > log(previous_det) (-50.636796472053845 > -78.473601225190507). You may want to try with a higher value of support_fraction (current value: 0.501).\n",
      "  RuntimeWarning)\n",
      "C:\\Users\\Ash\\Anaconda3\\lib\\site-packages\\sklearn\\covariance\\_robust_covariance.py:171: RuntimeWarning: Determinant has increased; this should not happen: log(det) > log(previous_det) (-50.615478356052016 > -78.541873364858077). You may want to try with a higher value of support_fraction (current value: 0.501).\n",
      "  RuntimeWarning)\n",
      "C:\\Users\\Ash\\Anaconda3\\lib\\site-packages\\sklearn\\covariance\\_robust_covariance.py:171: RuntimeWarning: Determinant has increased; this should not happen: log(det) > log(previous_det) (-50.856910532710877 > -78.751875018852829). You may want to try with a higher value of support_fraction (current value: 0.501).\n",
      "  RuntimeWarning)\n",
      "C:\\Users\\Ash\\Anaconda3\\lib\\site-packages\\sklearn\\covariance\\_robust_covariance.py:171: RuntimeWarning: Determinant has increased; this should not happen: log(det) > log(previous_det) (-50.387270931587814 > -78.409851509353345). You may want to try with a higher value of support_fraction (current value: 0.501).\n",
      "  RuntimeWarning)\n",
      "C:\\Users\\Ash\\Anaconda3\\lib\\site-packages\\sklearn\\covariance\\_robust_covariance.py:171: RuntimeWarning: Determinant has increased; this should not happen: log(det) > log(previous_det) (-50.704240869626581 > -78.607919847129551). You may want to try with a higher value of support_fraction (current value: 0.501).\n",
      "  RuntimeWarning)\n",
      "C:\\Users\\Ash\\Anaconda3\\lib\\site-packages\\sklearn\\covariance\\_robust_covariance.py:171: RuntimeWarning: Determinant has increased; this should not happen: log(det) > log(previous_det) (-50.912913002749420 > -78.674749063458563). You may want to try with a higher value of support_fraction (current value: 0.501).\n",
      "  RuntimeWarning)\n",
      "C:\\Users\\Ash\\Anaconda3\\lib\\site-packages\\sklearn\\covariance\\_robust_covariance.py:171: RuntimeWarning: Determinant has increased; this should not happen: log(det) > log(previous_det) (-50.972196310794097 > -77.430004326800955). You may want to try with a higher value of support_fraction (current value: 0.501).\n",
      "  RuntimeWarning)\n",
      "C:\\Users\\Ash\\Anaconda3\\lib\\site-packages\\sklearn\\covariance\\_robust_covariance.py:171: RuntimeWarning: Determinant has increased; this should not happen: log(det) > log(previous_det) (-50.952860770748757 > -77.863347937360018). You may want to try with a higher value of support_fraction (current value: 0.501).\n",
      "  RuntimeWarning)\n",
      "C:\\Users\\Ash\\Anaconda3\\lib\\site-packages\\sklearn\\covariance\\_robust_covariance.py:171: RuntimeWarning: Determinant has increased; this should not happen: log(det) > log(previous_det) (-49.984060441376876 > -78.217916805981361). You may want to try with a higher value of support_fraction (current value: 0.501).\n",
      "  RuntimeWarning)\n",
      "C:\\Users\\Ash\\Anaconda3\\lib\\site-packages\\sklearn\\covariance\\_robust_covariance.py:171: RuntimeWarning: Determinant has increased; this should not happen: log(det) > log(previous_det) (-50.874407408207148 > -77.031108339139905). You may want to try with a higher value of support_fraction (current value: 0.501).\n",
      "  RuntimeWarning)\n",
      "C:\\Users\\Ash\\Anaconda3\\lib\\site-packages\\sklearn\\covariance\\_robust_covariance.py:171: RuntimeWarning: Determinant has increased; this should not happen: log(det) > log(previous_det) (-51.093339409314396 > -78.952101129962315). You may want to try with a higher value of support_fraction (current value: 0.501).\n",
      "  RuntimeWarning)\n",
      "C:\\Users\\Ash\\Anaconda3\\lib\\site-packages\\sklearn\\covariance\\_robust_covariance.py:171: RuntimeWarning: Determinant has increased; this should not happen: log(det) > log(previous_det) (-50.008000074091719 > -78.208397559619641). You may want to try with a higher value of support_fraction (current value: 0.501).\n",
      "  RuntimeWarning)\n",
      "C:\\Users\\Ash\\Anaconda3\\lib\\site-packages\\sklearn\\covariance\\_robust_covariance.py:171: RuntimeWarning: Determinant has increased; this should not happen: log(det) > log(previous_det) (-51.509348483552266 > -79.467452461850186). You may want to try with a higher value of support_fraction (current value: 0.501).\n",
      "  RuntimeWarning)\n",
      "C:\\Users\\Ash\\Anaconda3\\lib\\site-packages\\sklearn\\covariance\\_robust_covariance.py:171: RuntimeWarning: Determinant has increased; this should not happen: log(det) > log(previous_det) (-51.035138506914898 > -77.380643960710088). You may want to try with a higher value of support_fraction (current value: 0.501).\n",
      "  RuntimeWarning)\n",
      "C:\\Users\\Ash\\Anaconda3\\lib\\site-packages\\sklearn\\covariance\\_robust_covariance.py:171: RuntimeWarning: Determinant has increased; this should not happen: log(det) > log(previous_det) (-50.309472403040324 > -79.191336946408427). You may want to try with a higher value of support_fraction (current value: 0.501).\n",
      "  RuntimeWarning)\n",
      "C:\\Users\\Ash\\Anaconda3\\lib\\site-packages\\sklearn\\covariance\\_robust_covariance.py:171: RuntimeWarning: Determinant has increased; this should not happen: log(det) > log(previous_det) (-50.004414661916044 > -80.008712194552174). You may want to try with a higher value of support_fraction (current value: 0.501).\n",
      "  RuntimeWarning)\n",
      "C:\\Users\\Ash\\Anaconda3\\lib\\site-packages\\sklearn\\covariance\\_robust_covariance.py:171: RuntimeWarning: Determinant has increased; this should not happen: log(det) > log(previous_det) (-49.922945655793640 > -76.381282034591223). You may want to try with a higher value of support_fraction (current value: 0.501).\n",
      "  RuntimeWarning)\n",
      "C:\\Users\\Ash\\Anaconda3\\lib\\site-packages\\sklearn\\covariance\\_robust_covariance.py:171: RuntimeWarning: Determinant has increased; this should not happen: log(det) > log(previous_det) (-49.960585302292543 > -76.485432635966518). You may want to try with a higher value of support_fraction (current value: 0.501).\n",
      "  RuntimeWarning)\n",
      "C:\\Users\\Ash\\Anaconda3\\lib\\site-packages\\sklearn\\covariance\\_robust_covariance.py:171: RuntimeWarning: Determinant has increased; this should not happen: log(det) > log(previous_det) (-50.036454373240865 > -81.287825191964004). You may want to try with a higher value of support_fraction (current value: 0.501).\n",
      "  RuntimeWarning)\n",
      "C:\\Users\\Ash\\Anaconda3\\lib\\site-packages\\sklearn\\covariance\\_robust_covariance.py:171: RuntimeWarning: Determinant has increased; this should not happen: log(det) > log(previous_det) (-50.889069126756084 > -78.371945114156745). You may want to try with a higher value of support_fraction (current value: 0.501).\n",
      "  RuntimeWarning)\n",
      "C:\\Users\\Ash\\Anaconda3\\lib\\site-packages\\sklearn\\covariance\\_robust_covariance.py:171: RuntimeWarning: Determinant has increased; this should not happen: log(det) > log(previous_det) (-51.018384990078779 > -77.297097257994551). You may want to try with a higher value of support_fraction (current value: 0.501).\n",
      "  RuntimeWarning)\n",
      "C:\\Users\\Ash\\Anaconda3\\lib\\site-packages\\sklearn\\covariance\\_robust_covariance.py:171: RuntimeWarning: Determinant has increased; this should not happen: log(det) > log(previous_det) (-50.989303823856552 > -113.711613170276024). You may want to try with a higher value of support_fraction (current value: 0.501).\n",
      "  RuntimeWarning)\n"
     ]
    },
    {
     "name": "stderr",
     "output_type": "stream",
     "text": [
      "C:\\Users\\Ash\\Anaconda3\\lib\\site-packages\\sklearn\\covariance\\_robust_covariance.py:171: RuntimeWarning: Determinant has increased; this should not happen: log(det) > log(previous_det) (-51.368350432883418 > -78.348169189360448). You may want to try with a higher value of support_fraction (current value: 0.501).\n",
      "  RuntimeWarning)\n",
      "C:\\Users\\Ash\\Anaconda3\\lib\\site-packages\\sklearn\\covariance\\_robust_covariance.py:171: RuntimeWarning: Determinant has increased; this should not happen: log(det) > log(previous_det) (-50.966862951394042 > -77.046640860511289). You may want to try with a higher value of support_fraction (current value: 0.501).\n",
      "  RuntimeWarning)\n",
      "C:\\Users\\Ash\\Anaconda3\\lib\\site-packages\\sklearn\\covariance\\_robust_covariance.py:171: RuntimeWarning: Determinant has increased; this should not happen: log(det) > log(previous_det) (-50.679805029313137 > -77.152294110846512). You may want to try with a higher value of support_fraction (current value: 0.501).\n",
      "  RuntimeWarning)\n",
      "C:\\Users\\Ash\\Anaconda3\\lib\\site-packages\\sklearn\\covariance\\_robust_covariance.py:171: RuntimeWarning: Determinant has increased; this should not happen: log(det) > log(previous_det) (-51.229449970427645 > -78.476204493515624). You may want to try with a higher value of support_fraction (current value: 0.501).\n",
      "  RuntimeWarning)\n",
      "C:\\Users\\Ash\\Anaconda3\\lib\\site-packages\\sklearn\\covariance\\_robust_covariance.py:171: RuntimeWarning: Determinant has increased; this should not happen: log(det) > log(previous_det) (-50.057770636467268 > -77.425645278992135). You may want to try with a higher value of support_fraction (current value: 0.501).\n",
      "  RuntimeWarning)\n",
      "C:\\Users\\Ash\\Anaconda3\\lib\\site-packages\\sklearn\\covariance\\_robust_covariance.py:171: RuntimeWarning: Determinant has increased; this should not happen: log(det) > log(previous_det) (-50.159848253023895 > -79.083945149007832). You may want to try with a higher value of support_fraction (current value: 0.501).\n",
      "  RuntimeWarning)\n",
      "C:\\Users\\Ash\\Anaconda3\\lib\\site-packages\\sklearn\\covariance\\_robust_covariance.py:171: RuntimeWarning: Determinant has increased; this should not happen: log(det) > log(previous_det) (-49.783210712317526 > -78.609292423322344). You may want to try with a higher value of support_fraction (current value: 0.501).\n",
      "  RuntimeWarning)\n",
      "C:\\Users\\Ash\\Anaconda3\\lib\\site-packages\\sklearn\\covariance\\_robust_covariance.py:171: RuntimeWarning: Determinant has increased; this should not happen: log(det) > log(previous_det) (-50.931227778127692 > -77.231006918757529). You may want to try with a higher value of support_fraction (current value: 0.501).\n",
      "  RuntimeWarning)\n",
      "C:\\Users\\Ash\\Anaconda3\\lib\\site-packages\\sklearn\\covariance\\_robust_covariance.py:171: RuntimeWarning: Determinant has increased; this should not happen: log(det) > log(previous_det) (-51.111594513992372 > -79.659588634681526). You may want to try with a higher value of support_fraction (current value: 0.501).\n",
      "  RuntimeWarning)\n",
      "C:\\Users\\Ash\\Anaconda3\\lib\\site-packages\\sklearn\\covariance\\_robust_covariance.py:171: RuntimeWarning: Determinant has increased; this should not happen: log(det) > log(previous_det) (-51.080571986751707 > -77.380829428237718). You may want to try with a higher value of support_fraction (current value: 0.501).\n",
      "  RuntimeWarning)\n",
      "C:\\Users\\Ash\\Anaconda3\\lib\\site-packages\\sklearn\\covariance\\_robust_covariance.py:171: RuntimeWarning: Determinant has increased; this should not happen: log(det) > log(previous_det) (-50.748185977722947 > -83.112516063882609). You may want to try with a higher value of support_fraction (current value: 0.501).\n",
      "  RuntimeWarning)\n",
      "C:\\Users\\Ash\\Anaconda3\\lib\\site-packages\\sklearn\\covariance\\_robust_covariance.py:171: RuntimeWarning: Determinant has increased; this should not happen: log(det) > log(previous_det) (-50.837258270509942 > -77.640266517713968). You may want to try with a higher value of support_fraction (current value: 0.501).\n",
      "  RuntimeWarning)\n",
      "C:\\Users\\Ash\\Anaconda3\\lib\\site-packages\\sklearn\\covariance\\_robust_covariance.py:171: RuntimeWarning: Determinant has increased; this should not happen: log(det) > log(previous_det) (-50.816303092110090 > -78.986878022168455). You may want to try with a higher value of support_fraction (current value: 0.501).\n",
      "  RuntimeWarning)\n"
     ]
    },
    {
     "name": "stdout",
     "output_type": "stream",
     "text": [
      "Minimum Covariance Determinat ROC:0.9901, precision @ rank n:0.7375,execution time:38.894s\n",
      "Principal Component Analysis ROC:0.9904, precision @ rank n:0.9542,execution time:0.0949s\n",
      "One Class SVM ROC:0.9922, precision @ rank n:0.9578,execution time:167.7065s\n",
      "\n",
      "...Processing vertebral ...\n",
      "Angle Based outlier detector ROC:0.3968, precision @ rank n:0.0909,execution time:0.1719s\n",
      "Cluster Based outlier Factor ROC:0.3604, precision @ rank n:0.0909,execution time:0.1419s\n"
     ]
    },
    {
     "name": "stderr",
     "output_type": "stream",
     "text": [
      "C:\\Users\\Ash\\Anaconda3\\lib\\site-packages\\sklearn\\cluster\\_kmeans.py:974: FutureWarning: 'n_jobs' was deprecated in version 0.23 and will be removed in 0.25.\n",
      "  \" removed in 0.25.\", FutureWarning)\n"
     ]
    },
    {
     "name": "stdout",
     "output_type": "stream",
     "text": [
      "Feature Bagging ROC:0.4118, precision @ rank n:0.0909,execution time:0.1169s\n",
      "Histogram Based outlier Detection ROC:0.3166, precision @ rank n:0.0,execution time:0.007s\n",
      "Isolation Forest ROC:0.3765, precision @ rank n:0.0,execution time:0.8535s\n",
      "K Nearest Neighbors ROC:0.384, precision @ rank n:0.0,execution time:0.048s\n",
      "Local outlier Factor ROC:0.4342, precision @ rank n:0.0909,execution time:0.009s\n"
     ]
    },
    {
     "name": "stderr",
     "output_type": "stream",
     "text": [
      "C:\\Users\\Ash\\Anaconda3\\lib\\site-packages\\sklearn\\covariance\\_robust_covariance.py:171: RuntimeWarning: Determinant has increased; this should not happen: log(det) > log(previous_det) (-22.994244179912045 > -41.725046020752501). You may want to try with a higher value of support_fraction (current value: 0.528).\n",
      "  RuntimeWarning)\n",
      "C:\\Users\\Ash\\Anaconda3\\lib\\site-packages\\sklearn\\covariance\\_robust_covariance.py:171: RuntimeWarning: Determinant has increased; this should not happen: log(det) > log(previous_det) (-23.141151711836841 > -42.581667616541722). You may want to try with a higher value of support_fraction (current value: 0.528).\n",
      "  RuntimeWarning)\n",
      "C:\\Users\\Ash\\Anaconda3\\lib\\site-packages\\sklearn\\covariance\\_robust_covariance.py:171: RuntimeWarning: Determinant has increased; this should not happen: log(det) > log(previous_det) (-23.057999505285920 > -43.833056694461597). You may want to try with a higher value of support_fraction (current value: 0.528).\n",
      "  RuntimeWarning)\n",
      "C:\\Users\\Ash\\Anaconda3\\lib\\site-packages\\sklearn\\covariance\\_robust_covariance.py:171: RuntimeWarning: Determinant has increased; this should not happen: log(det) > log(previous_det) (-23.065621925366369 > -43.231890202965005). You may want to try with a higher value of support_fraction (current value: 0.528).\n",
      "  RuntimeWarning)\n",
      "C:\\Users\\Ash\\Anaconda3\\lib\\site-packages\\sklearn\\covariance\\_robust_covariance.py:171: RuntimeWarning: Determinant has increased; this should not happen: log(det) > log(previous_det) (-23.349846721434325 > -42.135863299166971). You may want to try with a higher value of support_fraction (current value: 0.528).\n",
      "  RuntimeWarning)\n"
     ]
    },
    {
     "name": "stdout",
     "output_type": "stream",
     "text": [
      "Minimum Covariance Determinat ROC:0.4139, precision @ rank n:0.0,execution time:0.2491s\n",
      "Principal Component Analysis ROC:0.3615, precision @ rank n:0.0,execution time:0.005s\n",
      "One Class SVM ROC:0.3947, precision @ rank n:0.0909,execution time:0.005s\n",
      "\n",
      "...Processing vowels ...\n",
      "Angle Based outlier detector ROC:0.9515, precision @ rank n:0.5,execution time:1.1173s\n"
     ]
    },
    {
     "name": "stderr",
     "output_type": "stream",
     "text": [
      "C:\\Users\\Ash\\Anaconda3\\lib\\site-packages\\sklearn\\cluster\\_kmeans.py:974: FutureWarning: 'n_jobs' was deprecated in version 0.23 and will be removed in 0.25.\n",
      "  \" removed in 0.25.\", FutureWarning)\n"
     ]
    },
    {
     "name": "stdout",
     "output_type": "stream",
     "text": [
      "Cluster Based outlier Factor ROC:0.942, precision @ rank n:0.3182,execution time:0.3358s\n",
      "Feature Bagging ROC:0.9113, precision @ rank n:0.2727,execution time:0.8125s\n",
      "Histogram Based outlier Detection ROC:0.6365, precision @ rank n:0.0,execution time:0.013s\n",
      "Isolation Forest ROC:0.744, precision @ rank n:0.0909,execution time:1.0216s\n",
      "K Nearest Neighbors ROC:0.9763, precision @ rank n:0.4545,execution time:0.2538s\n",
      "Local outlier Factor ROC:0.9119, precision @ rank n:0.2727,execution time:0.0899s\n",
      "Minimum Covariance Determinat ROC:0.8905, precision @ rank n:0.1818,execution time:2.2896s\n",
      "Principal Component Analysis ROC:0.5675, precision @ rank n:0.0909,execution time:0.008s\n",
      "One Class SVM ROC:0.7763, precision @ rank n:0.1364,execution time:0.1179s\n",
      "\n",
      "...Processing wbc ...\n",
      "Angle Based outlier detector ROC:0.9181, precision @ rank n:0.5455,execution time:0.2918s\n",
      "Cluster Based outlier Factor ROC:0.9291, precision @ rank n:0.4545,execution time:0.1839s\n"
     ]
    },
    {
     "name": "stderr",
     "output_type": "stream",
     "text": [
      "C:\\Users\\Ash\\Anaconda3\\lib\\site-packages\\sklearn\\cluster\\_kmeans.py:974: FutureWarning: 'n_jobs' was deprecated in version 0.23 and will be removed in 0.25.\n",
      "  \" removed in 0.25.\", FutureWarning)\n"
     ]
    },
    {
     "name": "stdout",
     "output_type": "stream",
     "text": [
      "Feature Bagging ROC:0.9555, precision @ rank n:0.6364,execution time:0.2468s\n",
      "Histogram Based outlier Detection ROC:0.9594, precision @ rank n:0.6364,execution time:0.033s\n",
      "Isolation Forest ROC:0.951, precision @ rank n:0.6364,execution time:0.9214s\n",
      "K Nearest Neighbors ROC:0.9426, precision @ rank n:0.7273,execution time:0.061s\n",
      "Local outlier Factor ROC:0.9536, precision @ rank n:0.6364,execution time:0.021s\n",
      "Minimum Covariance Determinat ROC:0.9226, precision @ rank n:0.4545,execution time:0.2089s\n",
      "Principal Component Analysis ROC:0.9329, precision @ rank n:0.6364,execution time:0.007s\n",
      "One Class SVM ROC:0.9433, precision @ rank n:0.6364,execution time:0.014s\n"
     ]
    }
   ],
   "source": [
    "from time import time\n",
    "for mat_file in my_list: # list created\n",
    "    print(\"\\n...Processing\",mat_file,\"...\")\n",
    "    mat=loadmat(os.path.join(\"D:\\\\LetsUpgrade\\\\Projects\\\\Anomaly Detection\",mat_file)) #path of data\n",
    "    X=mat['X']# Independent variable\n",
    "    y=mat['y'].ravel() # dependent variable, ravel convert 2D into 1D\n",
    "    outlier_fraction=np.count_nonzero(y)/len(y) # entire count of y value\n",
    "    outlier_percentage=round(outlier_fraction*100,ndigits=4) # to round the value\n",
    "    \n",
    "    # construct the conatiner for storing the result\n",
    "    roc_list=[mat_file[:-4],X.shape[0],X.shape[1],outlier_percentage]\n",
    "    prn_list=[mat_file[:-4],X.shape[0],X.shape[1],outlier_percentage]\n",
    "    time_list=[mat_file[:-4],X.shape[0],X.shape[1],outlier_percentage]\n",
    "    \n",
    "    # split the data\n",
    "    X_train,X_test,y_train,y_test=train_test_split(X,y,test_size=0.4,random_state=42)\n",
    "    \n",
    "    # standardizing the data for procesing\n",
    "    X_train_norm,X_test_norm= standardizer(X_train,X_test)\n",
    "    \n",
    "    # define the algorithms\n",
    "    classifier={'Angle Based outlier detector':ABOD(contamination=outlier_fraction),\n",
    "               'Cluster Based outlier Factor':CBLOF(contamination=outlier_fraction,check_estimator=False,random_state=42),\n",
    "               'Feature Bagging':FeatureBagging(contamination=outlier_fraction,random_state=42),\n",
    "               'Histogram Based outlier Detection':HBOS(contamination=outlier_fraction),\n",
    "               'Isolation Forest':IForest(contamination=outlier_fraction,random_state=42),\n",
    "               'K Nearest Neighbors':KNN(contamination=outlier_fraction),\n",
    "               'Local outlier Factor':LOF(contamination=outlier_fraction),\n",
    "                'Minimum Covariance Determinat':MCD(contamination=outlier_fraction,random_state=42),\n",
    "               'Principal Component Analysis':PCA(contamination=outlier_fraction,random_state=42),\n",
    "                'One Class SVM':OCSVM(contamination=outlier_fraction)\n",
    "               }\n",
    "    for  clf_name, clf in classifier.items():\n",
    "        t0=time() # time before training\n",
    "        clf.fit(X_train_norm) # Fitting the model\n",
    "        test_scores=clf.decision_function(X_test_norm) # Testing the model\n",
    "        t1=time()# when testing is completed\n",
    "        duration=round(t1-t0,ndigits=4) # Total time\n",
    "        time_list.append(duration)\n",
    "        \n",
    "        roc=round(roc_auc_score(y_test,test_scores),ndigits=4)\n",
    "        prn=round(precision_n_scores(y_test,test_scores),ndigits=4)\n",
    "        \n",
    "        print('{clf_name} ROC:{roc}, precision @ rank n:{prn},'\n",
    "              'execution time:{duration}s'.format(\n",
    "              clf_name=clf_name,roc=roc,prn=prn,duration=duration))\n",
    "        roc_list.append(roc)\n",
    "        prn_list.append(prn)\n",
    "    \n",
    "    temp_df=pd.DataFrame(time_list).transpose()\n",
    "    temp_df.columns=df_columns\n",
    "    time_df=pd.concat([time_df,temp_df],axis=0)\n",
    "    \n",
    "    temp_df=pd.DataFrame(roc_list).transpose()\n",
    "    temp_df.columns=df_columns\n",
    "    roc_df=pd.concat([roc_df,temp_df],axis=0)\n",
    "    \n",
    "    temp_df=pd.DataFrame(prn_list).transpose()\n",
    "    temp_df.columns=df_columns\n",
    "    prn_df=pd.concat([prn_df,temp_df],axis=0)\n",
    "    \n",
    "    "
   ]
  },
  {
   "cell_type": "code",
   "execution_count": 27,
   "metadata": {},
   "outputs": [
    {
     "data": {
      "text/html": [
       "<div>\n",
       "<style scoped>\n",
       "    .dataframe tbody tr th:only-of-type {\n",
       "        vertical-align: middle;\n",
       "    }\n",
       "\n",
       "    .dataframe tbody tr th {\n",
       "        vertical-align: top;\n",
       "    }\n",
       "\n",
       "    .dataframe thead th {\n",
       "        text-align: right;\n",
       "    }\n",
       "</style>\n",
       "<table border=\"1\" class=\"dataframe\">\n",
       "  <thead>\n",
       "    <tr style=\"text-align: right;\">\n",
       "      <th></th>\n",
       "      <th>Data</th>\n",
       "      <th>Samples</th>\n",
       "      <th>Dimensions</th>\n",
       "      <th>outlier perc</th>\n",
       "      <th>ABOD</th>\n",
       "      <th>CBLOF</th>\n",
       "      <th>FB</th>\n",
       "      <th>HBOS</th>\n",
       "      <th>IFores</th>\n",
       "      <th>KNN</th>\n",
       "      <th>LOF</th>\n",
       "      <th>MCD</th>\n",
       "      <th>OCSVM</th>\n",
       "      <th>PCA</th>\n",
       "    </tr>\n",
       "  </thead>\n",
       "  <tbody>\n",
       "    <tr>\n",
       "      <th>0</th>\n",
       "      <td>arrhyt</td>\n",
       "      <td>452</td>\n",
       "      <td>274</td>\n",
       "      <td>14.6018</td>\n",
       "      <td>0.7687</td>\n",
       "      <td>0.7803</td>\n",
       "      <td>0.7775</td>\n",
       "      <td>0.8511</td>\n",
       "      <td>0.8184</td>\n",
       "      <td>0.782</td>\n",
       "      <td>0.7787</td>\n",
       "      <td>0.8228</td>\n",
       "      <td>0.8</td>\n",
       "      <td>0.7986</td>\n",
       "    </tr>\n",
       "    <tr>\n",
       "      <th>0</th>\n",
       "      <td>ca</td>\n",
       "      <td>1831</td>\n",
       "      <td>21</td>\n",
       "      <td>9.6122</td>\n",
       "      <td>0.5928</td>\n",
       "      <td>0.8609</td>\n",
       "      <td>0.6407</td>\n",
       "      <td>0.87</td>\n",
       "      <td>0.9314</td>\n",
       "      <td>0.7642</td>\n",
       "      <td>0.6432</td>\n",
       "      <td>0.8587</td>\n",
       "      <td>0.9581</td>\n",
       "      <td>0.9462</td>\n",
       "    </tr>\n",
       "    <tr>\n",
       "      <th>0</th>\n",
       "      <td>g</td>\n",
       "      <td>214</td>\n",
       "      <td>9</td>\n",
       "      <td>4.2056</td>\n",
       "      <td>0.7805</td>\n",
       "      <td>0.9116</td>\n",
       "      <td>0.7805</td>\n",
       "      <td>0.7256</td>\n",
       "      <td>0.7622</td>\n",
       "      <td>0.8902</td>\n",
       "      <td>0.7287</td>\n",
       "      <td>0.8079</td>\n",
       "      <td>0.747</td>\n",
       "      <td>0.753</td>\n",
       "    </tr>\n",
       "    <tr>\n",
       "      <th>0</th>\n",
       "      <td>ionosp</td>\n",
       "      <td>351</td>\n",
       "      <td>33</td>\n",
       "      <td>35.8974</td>\n",
       "      <td>0.9247</td>\n",
       "      <td>0.8846</td>\n",
       "      <td>0.9337</td>\n",
       "      <td>0.5154</td>\n",
       "      <td>0.8538</td>\n",
       "      <td>0.9226</td>\n",
       "      <td>0.9312</td>\n",
       "      <td>0.9659</td>\n",
       "      <td>0.8068</td>\n",
       "      <td>0.8799</td>\n",
       "    </tr>\n",
       "    <tr>\n",
       "      <th>0</th>\n",
       "      <td>le</td>\n",
       "      <td>1600</td>\n",
       "      <td>32</td>\n",
       "      <td>6.25</td>\n",
       "      <td>0.8949</td>\n",
       "      <td>0.7641</td>\n",
       "      <td>0.8948</td>\n",
       "      <td>0.6248</td>\n",
       "      <td>0.6031</td>\n",
       "      <td>0.8689</td>\n",
       "      <td>0.8781</td>\n",
       "      <td>0.8256</td>\n",
       "      <td>0.5142</td>\n",
       "      <td>0.5827</td>\n",
       "    </tr>\n",
       "    <tr>\n",
       "      <th>0</th>\n",
       "      <td>ly</td>\n",
       "      <td>148</td>\n",
       "      <td>18</td>\n",
       "      <td>4.0541</td>\n",
       "      <td>0.9138</td>\n",
       "      <td>1</td>\n",
       "      <td>1</td>\n",
       "      <td>1</td>\n",
       "      <td>1</td>\n",
       "      <td>0.9828</td>\n",
       "      <td>1</td>\n",
       "      <td>0.8966</td>\n",
       "      <td>1</td>\n",
       "      <td>1</td>\n",
       "    </tr>\n",
       "    <tr>\n",
       "      <th>0</th>\n",
       "      <td>m</td>\n",
       "      <td>7603</td>\n",
       "      <td>100</td>\n",
       "      <td>9.2069</td>\n",
       "      <td>0.7682</td>\n",
       "      <td>0.8583</td>\n",
       "      <td>0.6929</td>\n",
       "      <td>0.5578</td>\n",
       "      <td>0.8257</td>\n",
       "      <td>0.8423</td>\n",
       "      <td>0.7012</td>\n",
       "      <td>0.8498</td>\n",
       "      <td>0.8613</td>\n",
       "      <td>0.8622</td>\n",
       "    </tr>\n",
       "    <tr>\n",
       "      <th>0</th>\n",
       "      <td></td>\n",
       "      <td>3062</td>\n",
       "      <td>166</td>\n",
       "      <td>3.1679</td>\n",
       "      <td>0.1012</td>\n",
       "      <td>1</td>\n",
       "      <td>0.5627</td>\n",
       "      <td>1</td>\n",
       "      <td>1</td>\n",
       "      <td>0.7729</td>\n",
       "      <td>0.5567</td>\n",
       "      <td>1</td>\n",
       "      <td>1</td>\n",
       "      <td>1</td>\n",
       "    </tr>\n",
       "    <tr>\n",
       "      <th>0</th>\n",
       "      <td>optdi</td>\n",
       "      <td>5216</td>\n",
       "      <td>64</td>\n",
       "      <td>2.8758</td>\n",
       "      <td>0.4601</td>\n",
       "      <td>0.7186</td>\n",
       "      <td>0.4174</td>\n",
       "      <td>0.8962</td>\n",
       "      <td>0.7042</td>\n",
       "      <td>0.3717</td>\n",
       "      <td>0.4191</td>\n",
       "      <td>0.3802</td>\n",
       "      <td>0.507</td>\n",
       "      <td>0.4817</td>\n",
       "    </tr>\n",
       "    <tr>\n",
       "      <th>0</th>\n",
       "      <td>pendi</td>\n",
       "      <td>6870</td>\n",
       "      <td>16</td>\n",
       "      <td>2.2707</td>\n",
       "      <td>0.677</td>\n",
       "      <td>0.9682</td>\n",
       "      <td>0.4491</td>\n",
       "      <td>0.9261</td>\n",
       "      <td>0.9497</td>\n",
       "      <td>0.7603</td>\n",
       "      <td>0.4578</td>\n",
       "      <td>0.8376</td>\n",
       "      <td>0.9402</td>\n",
       "      <td>0.946</td>\n",
       "    </tr>\n",
       "    <tr>\n",
       "      <th>0</th>\n",
       "      <td></td>\n",
       "      <td>768</td>\n",
       "      <td>8</td>\n",
       "      <td>34.8958</td>\n",
       "      <td>0.665</td>\n",
       "      <td>0.6752</td>\n",
       "      <td>0.6414</td>\n",
       "      <td>0.7029</td>\n",
       "      <td>0.679</td>\n",
       "      <td>0.7123</td>\n",
       "      <td>0.6621</td>\n",
       "      <td>0.6977</td>\n",
       "      <td>0.6444</td>\n",
       "      <td>0.6423</td>\n",
       "    </tr>\n",
       "    <tr>\n",
       "      <th>0</th>\n",
       "      <td>satel</td>\n",
       "      <td>6435</td>\n",
       "      <td>36</td>\n",
       "      <td>31.6395</td>\n",
       "      <td>0.5598</td>\n",
       "      <td>0.7158</td>\n",
       "      <td>0.5329</td>\n",
       "      <td>0.7574</td>\n",
       "      <td>0.6803</td>\n",
       "      <td>0.6755</td>\n",
       "      <td>0.5339</td>\n",
       "      <td>0.7864</td>\n",
       "      <td>0.5762</td>\n",
       "      <td>0.6437</td>\n",
       "    </tr>\n",
       "    <tr>\n",
       "      <th>0</th>\n",
       "      <td>satima</td>\n",
       "      <td>5803</td>\n",
       "      <td>36</td>\n",
       "      <td>1.2235</td>\n",
       "      <td>0.8675</td>\n",
       "      <td>0.9998</td>\n",
       "      <td>0.5683</td>\n",
       "      <td>0.9809</td>\n",
       "      <td>0.9955</td>\n",
       "      <td>0.9595</td>\n",
       "      <td>0.5699</td>\n",
       "      <td>0.9965</td>\n",
       "      <td>0.9834</td>\n",
       "      <td>0.9997</td>\n",
       "    </tr>\n",
       "    <tr>\n",
       "      <th>0</th>\n",
       "      <td>shu</td>\n",
       "      <td>49097</td>\n",
       "      <td>9</td>\n",
       "      <td>7.1511</td>\n",
       "      <td>0.6096</td>\n",
       "      <td>0.5871</td>\n",
       "      <td>0.4867</td>\n",
       "      <td>0.9842</td>\n",
       "      <td>0.9979</td>\n",
       "      <td>0.643</td>\n",
       "      <td>0.529</td>\n",
       "      <td>0.9901</td>\n",
       "      <td>0.9904</td>\n",
       "      <td>0.9922</td>\n",
       "    </tr>\n",
       "    <tr>\n",
       "      <th>0</th>\n",
       "      <td>verte</td>\n",
       "      <td>240</td>\n",
       "      <td>6</td>\n",
       "      <td>12.5</td>\n",
       "      <td>0.3968</td>\n",
       "      <td>0.3604</td>\n",
       "      <td>0.4118</td>\n",
       "      <td>0.3166</td>\n",
       "      <td>0.3765</td>\n",
       "      <td>0.384</td>\n",
       "      <td>0.4342</td>\n",
       "      <td>0.4139</td>\n",
       "      <td>0.3615</td>\n",
       "      <td>0.3947</td>\n",
       "    </tr>\n",
       "    <tr>\n",
       "      <th>0</th>\n",
       "      <td>vo</td>\n",
       "      <td>1456</td>\n",
       "      <td>12</td>\n",
       "      <td>3.4341</td>\n",
       "      <td>0.9515</td>\n",
       "      <td>0.942</td>\n",
       "      <td>0.9113</td>\n",
       "      <td>0.6365</td>\n",
       "      <td>0.744</td>\n",
       "      <td>0.9763</td>\n",
       "      <td>0.9119</td>\n",
       "      <td>0.8905</td>\n",
       "      <td>0.5675</td>\n",
       "      <td>0.7763</td>\n",
       "    </tr>\n",
       "    <tr>\n",
       "      <th>0</th>\n",
       "      <td></td>\n",
       "      <td>378</td>\n",
       "      <td>30</td>\n",
       "      <td>5.5556</td>\n",
       "      <td>0.9181</td>\n",
       "      <td>0.9291</td>\n",
       "      <td>0.9555</td>\n",
       "      <td>0.9594</td>\n",
       "      <td>0.951</td>\n",
       "      <td>0.9426</td>\n",
       "      <td>0.9536</td>\n",
       "      <td>0.9226</td>\n",
       "      <td>0.9329</td>\n",
       "      <td>0.9433</td>\n",
       "    </tr>\n",
       "  </tbody>\n",
       "</table>\n",
       "</div>"
      ],
      "text/plain": [
       "     Data Samples Dimensions outlier perc    ABOD   CBLOF      FB    HBOS  \\\n",
       "0  arrhyt     452        274      14.6018  0.7687  0.7803  0.7775  0.8511   \n",
       "0      ca    1831         21       9.6122  0.5928  0.8609  0.6407    0.87   \n",
       "0       g     214          9       4.2056  0.7805  0.9116  0.7805  0.7256   \n",
       "0  ionosp     351         33      35.8974  0.9247  0.8846  0.9337  0.5154   \n",
       "0      le    1600         32         6.25  0.8949  0.7641  0.8948  0.6248   \n",
       "0      ly     148         18       4.0541  0.9138       1       1       1   \n",
       "0       m    7603        100       9.2069  0.7682  0.8583  0.6929  0.5578   \n",
       "0            3062        166       3.1679  0.1012       1  0.5627       1   \n",
       "0   optdi    5216         64       2.8758  0.4601  0.7186  0.4174  0.8962   \n",
       "0   pendi    6870         16       2.2707   0.677  0.9682  0.4491  0.9261   \n",
       "0             768          8      34.8958   0.665  0.6752  0.6414  0.7029   \n",
       "0   satel    6435         36      31.6395  0.5598  0.7158  0.5329  0.7574   \n",
       "0  satima    5803         36       1.2235  0.8675  0.9998  0.5683  0.9809   \n",
       "0     shu   49097          9       7.1511  0.6096  0.5871  0.4867  0.9842   \n",
       "0   verte     240          6         12.5  0.3968  0.3604  0.4118  0.3166   \n",
       "0      vo    1456         12       3.4341  0.9515   0.942  0.9113  0.6365   \n",
       "0             378         30       5.5556  0.9181  0.9291  0.9555  0.9594   \n",
       "\n",
       "   IFores     KNN     LOF     MCD   OCSVM     PCA  \n",
       "0  0.8184   0.782  0.7787  0.8228     0.8  0.7986  \n",
       "0  0.9314  0.7642  0.6432  0.8587  0.9581  0.9462  \n",
       "0  0.7622  0.8902  0.7287  0.8079   0.747   0.753  \n",
       "0  0.8538  0.9226  0.9312  0.9659  0.8068  0.8799  \n",
       "0  0.6031  0.8689  0.8781  0.8256  0.5142  0.5827  \n",
       "0       1  0.9828       1  0.8966       1       1  \n",
       "0  0.8257  0.8423  0.7012  0.8498  0.8613  0.8622  \n",
       "0       1  0.7729  0.5567       1       1       1  \n",
       "0  0.7042  0.3717  0.4191  0.3802   0.507  0.4817  \n",
       "0  0.9497  0.7603  0.4578  0.8376  0.9402   0.946  \n",
       "0   0.679  0.7123  0.6621  0.6977  0.6444  0.6423  \n",
       "0  0.6803  0.6755  0.5339  0.7864  0.5762  0.6437  \n",
       "0  0.9955  0.9595  0.5699  0.9965  0.9834  0.9997  \n",
       "0  0.9979   0.643   0.529  0.9901  0.9904  0.9922  \n",
       "0  0.3765   0.384  0.4342  0.4139  0.3615  0.3947  \n",
       "0   0.744  0.9763  0.9119  0.8905  0.5675  0.7763  \n",
       "0   0.951  0.9426  0.9536  0.9226  0.9329  0.9433  "
      ]
     },
     "execution_count": 27,
     "metadata": {},
     "output_type": "execute_result"
    }
   ],
   "source": [
    "roc_df"
   ]
  },
  {
   "cell_type": "code",
   "execution_count": 28,
   "metadata": {},
   "outputs": [
    {
     "data": {
      "text/html": [
       "<div>\n",
       "<style scoped>\n",
       "    .dataframe tbody tr th:only-of-type {\n",
       "        vertical-align: middle;\n",
       "    }\n",
       "\n",
       "    .dataframe tbody tr th {\n",
       "        vertical-align: top;\n",
       "    }\n",
       "\n",
       "    .dataframe thead th {\n",
       "        text-align: right;\n",
       "    }\n",
       "</style>\n",
       "<table border=\"1\" class=\"dataframe\">\n",
       "  <thead>\n",
       "    <tr style=\"text-align: right;\">\n",
       "      <th></th>\n",
       "      <th>Data</th>\n",
       "      <th>Samples</th>\n",
       "      <th>Dimensions</th>\n",
       "      <th>outlier perc</th>\n",
       "      <th>ABOD</th>\n",
       "      <th>CBLOF</th>\n",
       "      <th>FB</th>\n",
       "      <th>HBOS</th>\n",
       "      <th>IFores</th>\n",
       "      <th>KNN</th>\n",
       "      <th>LOF</th>\n",
       "      <th>MCD</th>\n",
       "      <th>OCSVM</th>\n",
       "      <th>PCA</th>\n",
       "    </tr>\n",
       "  </thead>\n",
       "  <tbody>\n",
       "    <tr>\n",
       "      <th>0</th>\n",
       "      <td>arrhyt</td>\n",
       "      <td>452</td>\n",
       "      <td>274</td>\n",
       "      <td>14.6018</td>\n",
       "      <td>0.3571</td>\n",
       "      <td>0.4643</td>\n",
       "      <td>0.4643</td>\n",
       "      <td>0.5714</td>\n",
       "      <td>0.5357</td>\n",
       "      <td>0.5</td>\n",
       "      <td>0.4643</td>\n",
       "      <td>0.4286</td>\n",
       "      <td>0.5</td>\n",
       "      <td>0.5</td>\n",
       "    </tr>\n",
       "    <tr>\n",
       "      <th>0</th>\n",
       "      <td>ca</td>\n",
       "      <td>1831</td>\n",
       "      <td>21</td>\n",
       "      <td>9.6122</td>\n",
       "      <td>0.2838</td>\n",
       "      <td>0.5541</td>\n",
       "      <td>0.2162</td>\n",
       "      <td>0.5135</td>\n",
       "      <td>0.527</td>\n",
       "      <td>0.4054</td>\n",
       "      <td>0.2162</td>\n",
       "      <td>0.4324</td>\n",
       "      <td>0.6216</td>\n",
       "      <td>0.527</td>\n",
       "    </tr>\n",
       "    <tr>\n",
       "      <th>0</th>\n",
       "      <td>g</td>\n",
       "      <td>214</td>\n",
       "      <td>9</td>\n",
       "      <td>4.2056</td>\n",
       "      <td>0.25</td>\n",
       "      <td>0.25</td>\n",
       "      <td>0.25</td>\n",
       "      <td>0.25</td>\n",
       "      <td>0.25</td>\n",
       "      <td>0.25</td>\n",
       "      <td>0.25</td>\n",
       "      <td>0</td>\n",
       "      <td>0.25</td>\n",
       "      <td>0.25</td>\n",
       "    </tr>\n",
       "    <tr>\n",
       "      <th>0</th>\n",
       "      <td>ionosp</td>\n",
       "      <td>351</td>\n",
       "      <td>33</td>\n",
       "      <td>35.8974</td>\n",
       "      <td>0.8868</td>\n",
       "      <td>0.7736</td>\n",
       "      <td>0.8113</td>\n",
       "      <td>0.3585</td>\n",
       "      <td>0.6792</td>\n",
       "      <td>0.8868</td>\n",
       "      <td>0.7736</td>\n",
       "      <td>0.9057</td>\n",
       "      <td>0.6226</td>\n",
       "      <td>0.7736</td>\n",
       "    </tr>\n",
       "    <tr>\n",
       "      <th>0</th>\n",
       "      <td>le</td>\n",
       "      <td>1600</td>\n",
       "      <td>32</td>\n",
       "      <td>6.25</td>\n",
       "      <td>0.3721</td>\n",
       "      <td>0.2558</td>\n",
       "      <td>0.4651</td>\n",
       "      <td>0.093</td>\n",
       "      <td>0.0698</td>\n",
       "      <td>0.3488</td>\n",
       "      <td>0.3721</td>\n",
       "      <td>0.2326</td>\n",
       "      <td>0.1163</td>\n",
       "      <td>0.1395</td>\n",
       "    </tr>\n",
       "    <tr>\n",
       "      <th>0</th>\n",
       "      <td>ly</td>\n",
       "      <td>148</td>\n",
       "      <td>18</td>\n",
       "      <td>4.0541</td>\n",
       "      <td>0</td>\n",
       "      <td>1</td>\n",
       "      <td>1</td>\n",
       "      <td>1</td>\n",
       "      <td>1</td>\n",
       "      <td>0.5</td>\n",
       "      <td>1</td>\n",
       "      <td>0.5</td>\n",
       "      <td>1</td>\n",
       "      <td>1</td>\n",
       "    </tr>\n",
       "    <tr>\n",
       "      <th>0</th>\n",
       "      <td>m</td>\n",
       "      <td>7603</td>\n",
       "      <td>100</td>\n",
       "      <td>9.2069</td>\n",
       "      <td>0.3643</td>\n",
       "      <td>0.4126</td>\n",
       "      <td>0.3346</td>\n",
       "      <td>0.0967</td>\n",
       "      <td>0.316</td>\n",
       "      <td>0.4349</td>\n",
       "      <td>0.3309</td>\n",
       "      <td>0.2268</td>\n",
       "      <td>0.3903</td>\n",
       "      <td>0.4015</td>\n",
       "    </tr>\n",
       "    <tr>\n",
       "      <th>0</th>\n",
       "      <td></td>\n",
       "      <td>3062</td>\n",
       "      <td>166</td>\n",
       "      <td>3.1679</td>\n",
       "      <td>0.0294</td>\n",
       "      <td>1</td>\n",
       "      <td>0.1471</td>\n",
       "      <td>1</td>\n",
       "      <td>1</td>\n",
       "      <td>0.2059</td>\n",
       "      <td>0.1471</td>\n",
       "      <td>1</td>\n",
       "      <td>1</td>\n",
       "      <td>1</td>\n",
       "    </tr>\n",
       "    <tr>\n",
       "      <th>0</th>\n",
       "      <td>optdi</td>\n",
       "      <td>5216</td>\n",
       "      <td>64</td>\n",
       "      <td>2.8758</td>\n",
       "      <td>0</td>\n",
       "      <td>0</td>\n",
       "      <td>0.0492</td>\n",
       "      <td>0.1803</td>\n",
       "      <td>0.0328</td>\n",
       "      <td>0</td>\n",
       "      <td>0.0164</td>\n",
       "      <td>0</td>\n",
       "      <td>0</td>\n",
       "      <td>0</td>\n",
       "    </tr>\n",
       "    <tr>\n",
       "      <th>0</th>\n",
       "      <td>pendi</td>\n",
       "      <td>6870</td>\n",
       "      <td>16</td>\n",
       "      <td>2.2707</td>\n",
       "      <td>0.0725</td>\n",
       "      <td>0.3623</td>\n",
       "      <td>0.0725</td>\n",
       "      <td>0.2609</td>\n",
       "      <td>0.3188</td>\n",
       "      <td>0.1594</td>\n",
       "      <td>0.0725</td>\n",
       "      <td>0.1159</td>\n",
       "      <td>0.3478</td>\n",
       "      <td>0.3333</td>\n",
       "    </tr>\n",
       "    <tr>\n",
       "      <th>0</th>\n",
       "      <td></td>\n",
       "      <td>768</td>\n",
       "      <td>8</td>\n",
       "      <td>34.8958</td>\n",
       "      <td>0.4314</td>\n",
       "      <td>0.4608</td>\n",
       "      <td>0.4118</td>\n",
       "      <td>0.5392</td>\n",
       "      <td>0.4608</td>\n",
       "      <td>0.5</td>\n",
       "      <td>0.4706</td>\n",
       "      <td>0.4804</td>\n",
       "      <td>0.451</td>\n",
       "      <td>0.4412</td>\n",
       "    </tr>\n",
       "    <tr>\n",
       "      <th>0</th>\n",
       "      <td>satel</td>\n",
       "      <td>6435</td>\n",
       "      <td>36</td>\n",
       "      <td>31.6395</td>\n",
       "      <td>0.3723</td>\n",
       "      <td>0.5346</td>\n",
       "      <td>0.3572</td>\n",
       "      <td>0.5585</td>\n",
       "      <td>0.5245</td>\n",
       "      <td>0.4818</td>\n",
       "      <td>0.3572</td>\n",
       "      <td>0.6692</td>\n",
       "      <td>0.4642</td>\n",
       "      <td>0.5119</td>\n",
       "    </tr>\n",
       "    <tr>\n",
       "      <th>0</th>\n",
       "      <td>satima</td>\n",
       "      <td>5803</td>\n",
       "      <td>36</td>\n",
       "      <td>1.2235</td>\n",
       "      <td>0.3333</td>\n",
       "      <td>0.9259</td>\n",
       "      <td>0.1111</td>\n",
       "      <td>0.6667</td>\n",
       "      <td>0.7778</td>\n",
       "      <td>0.4444</td>\n",
       "      <td>0.1111</td>\n",
       "      <td>0.6296</td>\n",
       "      <td>0.8148</td>\n",
       "      <td>0.8889</td>\n",
       "    </tr>\n",
       "    <tr>\n",
       "      <th>0</th>\n",
       "      <td>shu</td>\n",
       "      <td>49097</td>\n",
       "      <td>9</td>\n",
       "      <td>7.1511</td>\n",
       "      <td>0.1853</td>\n",
       "      <td>0.2339</td>\n",
       "      <td>0.073</td>\n",
       "      <td>0.9896</td>\n",
       "      <td>0.9628</td>\n",
       "      <td>0.2153</td>\n",
       "      <td>0.1323</td>\n",
       "      <td>0.7375</td>\n",
       "      <td>0.9542</td>\n",
       "      <td>0.9578</td>\n",
       "    </tr>\n",
       "    <tr>\n",
       "      <th>0</th>\n",
       "      <td>verte</td>\n",
       "      <td>240</td>\n",
       "      <td>6</td>\n",
       "      <td>12.5</td>\n",
       "      <td>0.0909</td>\n",
       "      <td>0.0909</td>\n",
       "      <td>0.0909</td>\n",
       "      <td>0</td>\n",
       "      <td>0</td>\n",
       "      <td>0</td>\n",
       "      <td>0.0909</td>\n",
       "      <td>0</td>\n",
       "      <td>0</td>\n",
       "      <td>0.0909</td>\n",
       "    </tr>\n",
       "    <tr>\n",
       "      <th>0</th>\n",
       "      <td>vo</td>\n",
       "      <td>1456</td>\n",
       "      <td>12</td>\n",
       "      <td>3.4341</td>\n",
       "      <td>0.5</td>\n",
       "      <td>0.3182</td>\n",
       "      <td>0.2727</td>\n",
       "      <td>0</td>\n",
       "      <td>0.0909</td>\n",
       "      <td>0.4545</td>\n",
       "      <td>0.2727</td>\n",
       "      <td>0.1818</td>\n",
       "      <td>0.0909</td>\n",
       "      <td>0.1364</td>\n",
       "    </tr>\n",
       "    <tr>\n",
       "      <th>0</th>\n",
       "      <td></td>\n",
       "      <td>378</td>\n",
       "      <td>30</td>\n",
       "      <td>5.5556</td>\n",
       "      <td>0.5455</td>\n",
       "      <td>0.4545</td>\n",
       "      <td>0.6364</td>\n",
       "      <td>0.6364</td>\n",
       "      <td>0.6364</td>\n",
       "      <td>0.7273</td>\n",
       "      <td>0.6364</td>\n",
       "      <td>0.4545</td>\n",
       "      <td>0.6364</td>\n",
       "      <td>0.6364</td>\n",
       "    </tr>\n",
       "  </tbody>\n",
       "</table>\n",
       "</div>"
      ],
      "text/plain": [
       "     Data Samples Dimensions outlier perc    ABOD   CBLOF      FB    HBOS  \\\n",
       "0  arrhyt     452        274      14.6018  0.3571  0.4643  0.4643  0.5714   \n",
       "0      ca    1831         21       9.6122  0.2838  0.5541  0.2162  0.5135   \n",
       "0       g     214          9       4.2056    0.25    0.25    0.25    0.25   \n",
       "0  ionosp     351         33      35.8974  0.8868  0.7736  0.8113  0.3585   \n",
       "0      le    1600         32         6.25  0.3721  0.2558  0.4651   0.093   \n",
       "0      ly     148         18       4.0541       0       1       1       1   \n",
       "0       m    7603        100       9.2069  0.3643  0.4126  0.3346  0.0967   \n",
       "0            3062        166       3.1679  0.0294       1  0.1471       1   \n",
       "0   optdi    5216         64       2.8758       0       0  0.0492  0.1803   \n",
       "0   pendi    6870         16       2.2707  0.0725  0.3623  0.0725  0.2609   \n",
       "0             768          8      34.8958  0.4314  0.4608  0.4118  0.5392   \n",
       "0   satel    6435         36      31.6395  0.3723  0.5346  0.3572  0.5585   \n",
       "0  satima    5803         36       1.2235  0.3333  0.9259  0.1111  0.6667   \n",
       "0     shu   49097          9       7.1511  0.1853  0.2339   0.073  0.9896   \n",
       "0   verte     240          6         12.5  0.0909  0.0909  0.0909       0   \n",
       "0      vo    1456         12       3.4341     0.5  0.3182  0.2727       0   \n",
       "0             378         30       5.5556  0.5455  0.4545  0.6364  0.6364   \n",
       "\n",
       "   IFores     KNN     LOF     MCD   OCSVM     PCA  \n",
       "0  0.5357     0.5  0.4643  0.4286     0.5     0.5  \n",
       "0   0.527  0.4054  0.2162  0.4324  0.6216   0.527  \n",
       "0    0.25    0.25    0.25       0    0.25    0.25  \n",
       "0  0.6792  0.8868  0.7736  0.9057  0.6226  0.7736  \n",
       "0  0.0698  0.3488  0.3721  0.2326  0.1163  0.1395  \n",
       "0       1     0.5       1     0.5       1       1  \n",
       "0   0.316  0.4349  0.3309  0.2268  0.3903  0.4015  \n",
       "0       1  0.2059  0.1471       1       1       1  \n",
       "0  0.0328       0  0.0164       0       0       0  \n",
       "0  0.3188  0.1594  0.0725  0.1159  0.3478  0.3333  \n",
       "0  0.4608     0.5  0.4706  0.4804   0.451  0.4412  \n",
       "0  0.5245  0.4818  0.3572  0.6692  0.4642  0.5119  \n",
       "0  0.7778  0.4444  0.1111  0.6296  0.8148  0.8889  \n",
       "0  0.9628  0.2153  0.1323  0.7375  0.9542  0.9578  \n",
       "0       0       0  0.0909       0       0  0.0909  \n",
       "0  0.0909  0.4545  0.2727  0.1818  0.0909  0.1364  \n",
       "0  0.6364  0.7273  0.6364  0.4545  0.6364  0.6364  "
      ]
     },
     "execution_count": 28,
     "metadata": {},
     "output_type": "execute_result"
    }
   ],
   "source": [
    "prn_df"
   ]
  },
  {
   "cell_type": "code",
   "execution_count": 29,
   "metadata": {},
   "outputs": [
    {
     "data": {
      "text/html": [
       "<div>\n",
       "<style scoped>\n",
       "    .dataframe tbody tr th:only-of-type {\n",
       "        vertical-align: middle;\n",
       "    }\n",
       "\n",
       "    .dataframe tbody tr th {\n",
       "        vertical-align: top;\n",
       "    }\n",
       "\n",
       "    .dataframe thead th {\n",
       "        text-align: right;\n",
       "    }\n",
       "</style>\n",
       "<table border=\"1\" class=\"dataframe\">\n",
       "  <thead>\n",
       "    <tr style=\"text-align: right;\">\n",
       "      <th></th>\n",
       "      <th>Data</th>\n",
       "      <th>Samples</th>\n",
       "      <th>Dimensions</th>\n",
       "      <th>outlier perc</th>\n",
       "      <th>ABOD</th>\n",
       "      <th>CBLOF</th>\n",
       "      <th>FB</th>\n",
       "      <th>HBOS</th>\n",
       "      <th>IFores</th>\n",
       "      <th>KNN</th>\n",
       "      <th>LOF</th>\n",
       "      <th>MCD</th>\n",
       "      <th>OCSVM</th>\n",
       "      <th>PCA</th>\n",
       "    </tr>\n",
       "  </thead>\n",
       "  <tbody>\n",
       "    <tr>\n",
       "      <th>0</th>\n",
       "      <td>arrhyt</td>\n",
       "      <td>452</td>\n",
       "      <td>274</td>\n",
       "      <td>14.6018</td>\n",
       "      <td>7.6262</td>\n",
       "      <td>6.1275</td>\n",
       "      <td>1.666</td>\n",
       "      <td>9.2048</td>\n",
       "      <td>2.5644</td>\n",
       "      <td>0.2978</td>\n",
       "      <td>0.1949</td>\n",
       "      <td>2.8682</td>\n",
       "      <td>0.2149</td>\n",
       "      <td>0.0989</td>\n",
       "    </tr>\n",
       "    <tr>\n",
       "      <th>0</th>\n",
       "      <td>ca</td>\n",
       "      <td>1831</td>\n",
       "      <td>21</td>\n",
       "      <td>9.6122</td>\n",
       "      <td>2.0997</td>\n",
       "      <td>0.5277</td>\n",
       "      <td>3.3659</td>\n",
       "      <td>0.02</td>\n",
       "      <td>1.5231</td>\n",
       "      <td>0.6066</td>\n",
       "      <td>0.3228</td>\n",
       "      <td>2.5804</td>\n",
       "      <td>0.031</td>\n",
       "      <td>0.3208</td>\n",
       "    </tr>\n",
       "    <tr>\n",
       "      <th>0</th>\n",
       "      <td>g</td>\n",
       "      <td>214</td>\n",
       "      <td>9</td>\n",
       "      <td>4.2056</td>\n",
       "      <td>0.3348</td>\n",
       "      <td>0.4697</td>\n",
       "      <td>0.2918</td>\n",
       "      <td>0.037</td>\n",
       "      <td>1.3212</td>\n",
       "      <td>0.031</td>\n",
       "      <td>0.009</td>\n",
       "      <td>0.1599</td>\n",
       "      <td>0.008</td>\n",
       "      <td>0.009</td>\n",
       "    </tr>\n",
       "    <tr>\n",
       "      <th>0</th>\n",
       "      <td>ionosp</td>\n",
       "      <td>351</td>\n",
       "      <td>33</td>\n",
       "      <td>35.8974</td>\n",
       "      <td>0.3338</td>\n",
       "      <td>0.1939</td>\n",
       "      <td>0.2429</td>\n",
       "      <td>0.038</td>\n",
       "      <td>1.587</td>\n",
       "      <td>0.1299</td>\n",
       "      <td>0.02</td>\n",
       "      <td>0.4417</td>\n",
       "      <td>0.007</td>\n",
       "      <td>0.013</td>\n",
       "    </tr>\n",
       "    <tr>\n",
       "      <th>0</th>\n",
       "      <td>le</td>\n",
       "      <td>1600</td>\n",
       "      <td>32</td>\n",
       "      <td>6.25</td>\n",
       "      <td>1.7569</td>\n",
       "      <td>0.3928</td>\n",
       "      <td>3.0521</td>\n",
       "      <td>0.039</td>\n",
       "      <td>1.4221</td>\n",
       "      <td>0.4397</td>\n",
       "      <td>0.2938</td>\n",
       "      <td>5.7165</td>\n",
       "      <td>0.015</td>\n",
       "      <td>0.2558</td>\n",
       "    </tr>\n",
       "    <tr>\n",
       "      <th>0</th>\n",
       "      <td>ly</td>\n",
       "      <td>148</td>\n",
       "      <td>18</td>\n",
       "      <td>4.0541</td>\n",
       "      <td>0.1169</td>\n",
       "      <td>0.3818</td>\n",
       "      <td>0.1009</td>\n",
       "      <td>0.015</td>\n",
       "      <td>0.9334</td>\n",
       "      <td>0.024</td>\n",
       "      <td>0.009</td>\n",
       "      <td>0.1999</td>\n",
       "      <td>0.009</td>\n",
       "      <td>0.007</td>\n",
       "    </tr>\n",
       "    <tr>\n",
       "      <th>0</th>\n",
       "      <td>m</td>\n",
       "      <td>7603</td>\n",
       "      <td>100</td>\n",
       "      <td>9.2069</td>\n",
       "      <td>26.0899</td>\n",
       "      <td>3.268</td>\n",
       "      <td>144.003</td>\n",
       "      <td>0.1499</td>\n",
       "      <td>5.1308</td>\n",
       "      <td>15.7093</td>\n",
       "      <td>14.7279</td>\n",
       "      <td>9.0054</td>\n",
       "      <td>0.3668</td>\n",
       "      <td>10.1777</td>\n",
       "    </tr>\n",
       "    <tr>\n",
       "      <th>0</th>\n",
       "      <td></td>\n",
       "      <td>3062</td>\n",
       "      <td>166</td>\n",
       "      <td>3.1679</td>\n",
       "      <td>5.8884</td>\n",
       "      <td>0.6807</td>\n",
       "      <td>27.4691</td>\n",
       "      <td>0.1979</td>\n",
       "      <td>3.5468</td>\n",
       "      <td>4.1964</td>\n",
       "      <td>3.6857</td>\n",
       "      <td>36.2097</td>\n",
       "      <td>0.3348</td>\n",
       "      <td>2.4555</td>\n",
       "    </tr>\n",
       "    <tr>\n",
       "      <th>0</th>\n",
       "      <td>optdi</td>\n",
       "      <td>5216</td>\n",
       "      <td>64</td>\n",
       "      <td>2.8758</td>\n",
       "      <td>9.1144</td>\n",
       "      <td>0.9654</td>\n",
       "      <td>38.5942</td>\n",
       "      <td>0.0979</td>\n",
       "      <td>2.6873</td>\n",
       "      <td>5.1508</td>\n",
       "      <td>4.887</td>\n",
       "      <td>4.819</td>\n",
       "      <td>0.1829</td>\n",
       "      <td>4.0905</td>\n",
       "    </tr>\n",
       "    <tr>\n",
       "      <th>0</th>\n",
       "      <td>pendi</td>\n",
       "      <td>6870</td>\n",
       "      <td>16</td>\n",
       "      <td>2.2707</td>\n",
       "      <td>7.8422</td>\n",
       "      <td>1.0543</td>\n",
       "      <td>15.3535</td>\n",
       "      <td>0.027</td>\n",
       "      <td>2.2876</td>\n",
       "      <td>1.9518</td>\n",
       "      <td>1.557</td>\n",
       "      <td>7.2026</td>\n",
       "      <td>0.029</td>\n",
       "      <td>3.0301</td>\n",
       "    </tr>\n",
       "    <tr>\n",
       "      <th>0</th>\n",
       "      <td></td>\n",
       "      <td>768</td>\n",
       "      <td>8</td>\n",
       "      <td>34.8958</td>\n",
       "      <td>0.6386</td>\n",
       "      <td>0.2179</td>\n",
       "      <td>0.3088</td>\n",
       "      <td>0.01</td>\n",
       "      <td>1.1143</td>\n",
       "      <td>0.1429</td>\n",
       "      <td>0.031</td>\n",
       "      <td>0.1979</td>\n",
       "      <td>0.008</td>\n",
       "      <td>0.035</td>\n",
       "    </tr>\n",
       "    <tr>\n",
       "      <th>0</th>\n",
       "      <td>satel</td>\n",
       "      <td>6435</td>\n",
       "      <td>36</td>\n",
       "      <td>31.6395</td>\n",
       "      <td>7.3804</td>\n",
       "      <td>0.8465</td>\n",
       "      <td>23.5455</td>\n",
       "      <td>0.056</td>\n",
       "      <td>2.3945</td>\n",
       "      <td>4.4822</td>\n",
       "      <td>2.5454</td>\n",
       "      <td>7.7702</td>\n",
       "      <td>0.059</td>\n",
       "      <td>3.6368</td>\n",
       "    </tr>\n",
       "    <tr>\n",
       "      <th>0</th>\n",
       "      <td>satima</td>\n",
       "      <td>5803</td>\n",
       "      <td>36</td>\n",
       "      <td>1.2235</td>\n",
       "      <td>6.399</td>\n",
       "      <td>0.8095</td>\n",
       "      <td>18.1738</td>\n",
       "      <td>0.058</td>\n",
       "      <td>2.2586</td>\n",
       "      <td>2.9382</td>\n",
       "      <td>2.3955</td>\n",
       "      <td>8.3408</td>\n",
       "      <td>0.0999</td>\n",
       "      <td>3.8846</td>\n",
       "    </tr>\n",
       "    <tr>\n",
       "      <th>0</th>\n",
       "      <td>shu</td>\n",
       "      <td>49097</td>\n",
       "      <td>9</td>\n",
       "      <td>7.1511</td>\n",
       "      <td>67.2428</td>\n",
       "      <td>1.9688</td>\n",
       "      <td>167.419</td>\n",
       "      <td>0.062</td>\n",
       "      <td>9.7835</td>\n",
       "      <td>25.896</td>\n",
       "      <td>33.3024</td>\n",
       "      <td>38.894</td>\n",
       "      <td>0.0949</td>\n",
       "      <td>167.707</td>\n",
       "    </tr>\n",
       "    <tr>\n",
       "      <th>0</th>\n",
       "      <td>verte</td>\n",
       "      <td>240</td>\n",
       "      <td>6</td>\n",
       "      <td>12.5</td>\n",
       "      <td>0.1719</td>\n",
       "      <td>0.1419</td>\n",
       "      <td>0.1169</td>\n",
       "      <td>0.007</td>\n",
       "      <td>0.8535</td>\n",
       "      <td>0.048</td>\n",
       "      <td>0.009</td>\n",
       "      <td>0.2491</td>\n",
       "      <td>0.005</td>\n",
       "      <td>0.005</td>\n",
       "    </tr>\n",
       "    <tr>\n",
       "      <th>0</th>\n",
       "      <td>vo</td>\n",
       "      <td>1456</td>\n",
       "      <td>12</td>\n",
       "      <td>3.4341</td>\n",
       "      <td>1.1173</td>\n",
       "      <td>0.3358</td>\n",
       "      <td>0.8125</td>\n",
       "      <td>0.013</td>\n",
       "      <td>1.0216</td>\n",
       "      <td>0.2538</td>\n",
       "      <td>0.0899</td>\n",
       "      <td>2.2896</td>\n",
       "      <td>0.008</td>\n",
       "      <td>0.1179</td>\n",
       "    </tr>\n",
       "    <tr>\n",
       "      <th>0</th>\n",
       "      <td></td>\n",
       "      <td>378</td>\n",
       "      <td>30</td>\n",
       "      <td>5.5556</td>\n",
       "      <td>0.2918</td>\n",
       "      <td>0.1839</td>\n",
       "      <td>0.2468</td>\n",
       "      <td>0.033</td>\n",
       "      <td>0.9214</td>\n",
       "      <td>0.061</td>\n",
       "      <td>0.021</td>\n",
       "      <td>0.2089</td>\n",
       "      <td>0.007</td>\n",
       "      <td>0.014</td>\n",
       "    </tr>\n",
       "  </tbody>\n",
       "</table>\n",
       "</div>"
      ],
      "text/plain": [
       "     Data Samples Dimensions outlier perc     ABOD   CBLOF       FB    HBOS  \\\n",
       "0  arrhyt     452        274      14.6018   7.6262  6.1275    1.666  9.2048   \n",
       "0      ca    1831         21       9.6122   2.0997  0.5277   3.3659    0.02   \n",
       "0       g     214          9       4.2056   0.3348  0.4697   0.2918   0.037   \n",
       "0  ionosp     351         33      35.8974   0.3338  0.1939   0.2429   0.038   \n",
       "0      le    1600         32         6.25   1.7569  0.3928   3.0521   0.039   \n",
       "0      ly     148         18       4.0541   0.1169  0.3818   0.1009   0.015   \n",
       "0       m    7603        100       9.2069  26.0899   3.268  144.003  0.1499   \n",
       "0            3062        166       3.1679   5.8884  0.6807  27.4691  0.1979   \n",
       "0   optdi    5216         64       2.8758   9.1144  0.9654  38.5942  0.0979   \n",
       "0   pendi    6870         16       2.2707   7.8422  1.0543  15.3535   0.027   \n",
       "0             768          8      34.8958   0.6386  0.2179   0.3088    0.01   \n",
       "0   satel    6435         36      31.6395   7.3804  0.8465  23.5455   0.056   \n",
       "0  satima    5803         36       1.2235    6.399  0.8095  18.1738   0.058   \n",
       "0     shu   49097          9       7.1511  67.2428  1.9688  167.419   0.062   \n",
       "0   verte     240          6         12.5   0.1719  0.1419   0.1169   0.007   \n",
       "0      vo    1456         12       3.4341   1.1173  0.3358   0.8125   0.013   \n",
       "0             378         30       5.5556   0.2918  0.1839   0.2468   0.033   \n",
       "\n",
       "   IFores      KNN      LOF      MCD   OCSVM      PCA  \n",
       "0  2.5644   0.2978   0.1949   2.8682  0.2149   0.0989  \n",
       "0  1.5231   0.6066   0.3228   2.5804   0.031   0.3208  \n",
       "0  1.3212    0.031    0.009   0.1599   0.008    0.009  \n",
       "0   1.587   0.1299     0.02   0.4417   0.007    0.013  \n",
       "0  1.4221   0.4397   0.2938   5.7165   0.015   0.2558  \n",
       "0  0.9334    0.024    0.009   0.1999   0.009    0.007  \n",
       "0  5.1308  15.7093  14.7279   9.0054  0.3668  10.1777  \n",
       "0  3.5468   4.1964   3.6857  36.2097  0.3348   2.4555  \n",
       "0  2.6873   5.1508    4.887    4.819  0.1829   4.0905  \n",
       "0  2.2876   1.9518    1.557   7.2026   0.029   3.0301  \n",
       "0  1.1143   0.1429    0.031   0.1979   0.008    0.035  \n",
       "0  2.3945   4.4822   2.5454   7.7702   0.059   3.6368  \n",
       "0  2.2586   2.9382   2.3955   8.3408  0.0999   3.8846  \n",
       "0  9.7835   25.896  33.3024   38.894  0.0949  167.707  \n",
       "0  0.8535    0.048    0.009   0.2491   0.005    0.005  \n",
       "0  1.0216   0.2538   0.0899   2.2896   0.008   0.1179  \n",
       "0  0.9214    0.061    0.021   0.2089   0.007    0.014  "
      ]
     },
     "execution_count": 29,
     "metadata": {},
     "output_type": "execute_result"
    }
   ],
   "source": [
    "time_df"
   ]
  },
  {
   "cell_type": "code",
   "execution_count": null,
   "metadata": {},
   "outputs": [],
   "source": []
  }
 ],
 "metadata": {
  "kernelspec": {
   "display_name": "Python 3",
   "language": "python",
   "name": "python3"
  },
  "language_info": {
   "codemirror_mode": {
    "name": "ipython",
    "version": 3
   },
   "file_extension": ".py",
   "mimetype": "text/x-python",
   "name": "python",
   "nbconvert_exporter": "python",
   "pygments_lexer": "ipython3",
   "version": "3.7.7"
  }
 },
 "nbformat": 4,
 "nbformat_minor": 4
}
