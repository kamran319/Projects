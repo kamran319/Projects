{
 "cells": [
  {
   "cell_type": "code",
   "execution_count": 1,
   "id": "9feef6c4",
   "metadata": {},
   "outputs": [],
   "source": [
    "import pandas as pd\n",
    "import numpy as np\n",
    "import seaborn as sns\n",
    "import matplotlib.pyplot as plt\n",
    "from sklearn.model_selection import train_test_split\n",
    "from sklearn.linear_model import LinearRegression\n",
    "from sklearn.linear_model import Lasso\n",
    "from sklearn.ensemble import RandomForestRegressor\n",
    "from sklearn import metrics\n"
   ]
  },
  {
   "cell_type": "code",
   "execution_count": 2,
   "id": "77f1f137",
   "metadata": {},
   "outputs": [],
   "source": [
    "gold=pd.read_csv(\"gld_price_data.csv\")"
   ]
  },
  {
   "cell_type": "code",
   "execution_count": 3,
   "id": "4b772e43",
   "metadata": {},
   "outputs": [
    {
     "data": {
      "text/html": [
       "<div>\n",
       "<style scoped>\n",
       "    .dataframe tbody tr th:only-of-type {\n",
       "        vertical-align: middle;\n",
       "    }\n",
       "\n",
       "    .dataframe tbody tr th {\n",
       "        vertical-align: top;\n",
       "    }\n",
       "\n",
       "    .dataframe thead th {\n",
       "        text-align: right;\n",
       "    }\n",
       "</style>\n",
       "<table border=\"1\" class=\"dataframe\">\n",
       "  <thead>\n",
       "    <tr style=\"text-align: right;\">\n",
       "      <th></th>\n",
       "      <th>Date</th>\n",
       "      <th>SPX</th>\n",
       "      <th>GLD</th>\n",
       "      <th>USO</th>\n",
       "      <th>SLV</th>\n",
       "      <th>EUR/USD</th>\n",
       "    </tr>\n",
       "  </thead>\n",
       "  <tbody>\n",
       "    <tr>\n",
       "      <th>0</th>\n",
       "      <td>1/2/2008</td>\n",
       "      <td>1447.160034</td>\n",
       "      <td>84.860001</td>\n",
       "      <td>78.470001</td>\n",
       "      <td>15.180</td>\n",
       "      <td>1.471692</td>\n",
       "    </tr>\n",
       "    <tr>\n",
       "      <th>1</th>\n",
       "      <td>1/3/2008</td>\n",
       "      <td>1447.160034</td>\n",
       "      <td>85.570000</td>\n",
       "      <td>78.370003</td>\n",
       "      <td>15.285</td>\n",
       "      <td>1.474491</td>\n",
       "    </tr>\n",
       "    <tr>\n",
       "      <th>2</th>\n",
       "      <td>1/4/2008</td>\n",
       "      <td>1411.630005</td>\n",
       "      <td>85.129997</td>\n",
       "      <td>77.309998</td>\n",
       "      <td>15.167</td>\n",
       "      <td>1.475492</td>\n",
       "    </tr>\n",
       "    <tr>\n",
       "      <th>3</th>\n",
       "      <td>1/7/2008</td>\n",
       "      <td>1416.180054</td>\n",
       "      <td>84.769997</td>\n",
       "      <td>75.500000</td>\n",
       "      <td>15.053</td>\n",
       "      <td>1.468299</td>\n",
       "    </tr>\n",
       "    <tr>\n",
       "      <th>4</th>\n",
       "      <td>1/8/2008</td>\n",
       "      <td>1390.189941</td>\n",
       "      <td>86.779999</td>\n",
       "      <td>76.059998</td>\n",
       "      <td>15.590</td>\n",
       "      <td>1.557099</td>\n",
       "    </tr>\n",
       "  </tbody>\n",
       "</table>\n",
       "</div>"
      ],
      "text/plain": [
       "       Date          SPX        GLD        USO     SLV   EUR/USD\n",
       "0  1/2/2008  1447.160034  84.860001  78.470001  15.180  1.471692\n",
       "1  1/3/2008  1447.160034  85.570000  78.370003  15.285  1.474491\n",
       "2  1/4/2008  1411.630005  85.129997  77.309998  15.167  1.475492\n",
       "3  1/7/2008  1416.180054  84.769997  75.500000  15.053  1.468299\n",
       "4  1/8/2008  1390.189941  86.779999  76.059998  15.590  1.557099"
      ]
     },
     "execution_count": 3,
     "metadata": {},
     "output_type": "execute_result"
    }
   ],
   "source": [
    "gold.head()"
   ]
  },
  {
   "cell_type": "code",
   "execution_count": 4,
   "id": "0db18523",
   "metadata": {},
   "outputs": [
    {
     "data": {
      "text/plain": [
       "(2290, 6)"
      ]
     },
     "execution_count": 4,
     "metadata": {},
     "output_type": "execute_result"
    }
   ],
   "source": [
    "gold.shape"
   ]
  },
  {
   "cell_type": "code",
   "execution_count": 5,
   "id": "7228209d",
   "metadata": {},
   "outputs": [
    {
     "name": "stdout",
     "output_type": "stream",
     "text": [
      "<class 'pandas.core.frame.DataFrame'>\n",
      "RangeIndex: 2290 entries, 0 to 2289\n",
      "Data columns (total 6 columns):\n",
      " #   Column   Non-Null Count  Dtype  \n",
      "---  ------   --------------  -----  \n",
      " 0   Date     2290 non-null   object \n",
      " 1   SPX      2290 non-null   float64\n",
      " 2   GLD      2290 non-null   float64\n",
      " 3   USO      2290 non-null   float64\n",
      " 4   SLV      2290 non-null   float64\n",
      " 5   EUR/USD  2290 non-null   float64\n",
      "dtypes: float64(5), object(1)\n",
      "memory usage: 107.5+ KB\n"
     ]
    }
   ],
   "source": [
    "gold.info()"
   ]
  },
  {
   "cell_type": "code",
   "execution_count": 6,
   "id": "549fe7d9",
   "metadata": {},
   "outputs": [
    {
     "data": {
      "text/html": [
       "<div>\n",
       "<style scoped>\n",
       "    .dataframe tbody tr th:only-of-type {\n",
       "        vertical-align: middle;\n",
       "    }\n",
       "\n",
       "    .dataframe tbody tr th {\n",
       "        vertical-align: top;\n",
       "    }\n",
       "\n",
       "    .dataframe thead th {\n",
       "        text-align: right;\n",
       "    }\n",
       "</style>\n",
       "<table border=\"1\" class=\"dataframe\">\n",
       "  <thead>\n",
       "    <tr style=\"text-align: right;\">\n",
       "      <th></th>\n",
       "      <th>SPX</th>\n",
       "      <th>GLD</th>\n",
       "      <th>USO</th>\n",
       "      <th>SLV</th>\n",
       "      <th>EUR/USD</th>\n",
       "    </tr>\n",
       "  </thead>\n",
       "  <tbody>\n",
       "    <tr>\n",
       "      <th>count</th>\n",
       "      <td>2290.000000</td>\n",
       "      <td>2290.000000</td>\n",
       "      <td>2290.000000</td>\n",
       "      <td>2290.000000</td>\n",
       "      <td>2290.000000</td>\n",
       "    </tr>\n",
       "    <tr>\n",
       "      <th>mean</th>\n",
       "      <td>1654.315776</td>\n",
       "      <td>122.732875</td>\n",
       "      <td>31.842221</td>\n",
       "      <td>20.084997</td>\n",
       "      <td>1.283653</td>\n",
       "    </tr>\n",
       "    <tr>\n",
       "      <th>std</th>\n",
       "      <td>519.111540</td>\n",
       "      <td>23.283346</td>\n",
       "      <td>19.523517</td>\n",
       "      <td>7.092566</td>\n",
       "      <td>0.131547</td>\n",
       "    </tr>\n",
       "    <tr>\n",
       "      <th>min</th>\n",
       "      <td>676.530029</td>\n",
       "      <td>70.000000</td>\n",
       "      <td>7.960000</td>\n",
       "      <td>8.850000</td>\n",
       "      <td>1.039047</td>\n",
       "    </tr>\n",
       "    <tr>\n",
       "      <th>25%</th>\n",
       "      <td>1239.874969</td>\n",
       "      <td>109.725000</td>\n",
       "      <td>14.380000</td>\n",
       "      <td>15.570000</td>\n",
       "      <td>1.171313</td>\n",
       "    </tr>\n",
       "    <tr>\n",
       "      <th>50%</th>\n",
       "      <td>1551.434998</td>\n",
       "      <td>120.580002</td>\n",
       "      <td>33.869999</td>\n",
       "      <td>17.268500</td>\n",
       "      <td>1.303297</td>\n",
       "    </tr>\n",
       "    <tr>\n",
       "      <th>75%</th>\n",
       "      <td>2073.010070</td>\n",
       "      <td>132.840004</td>\n",
       "      <td>37.827501</td>\n",
       "      <td>22.882500</td>\n",
       "      <td>1.369971</td>\n",
       "    </tr>\n",
       "    <tr>\n",
       "      <th>max</th>\n",
       "      <td>2872.870117</td>\n",
       "      <td>184.589996</td>\n",
       "      <td>117.480003</td>\n",
       "      <td>47.259998</td>\n",
       "      <td>1.598798</td>\n",
       "    </tr>\n",
       "  </tbody>\n",
       "</table>\n",
       "</div>"
      ],
      "text/plain": [
       "               SPX          GLD          USO          SLV      EUR/USD\n",
       "count  2290.000000  2290.000000  2290.000000  2290.000000  2290.000000\n",
       "mean   1654.315776   122.732875    31.842221    20.084997     1.283653\n",
       "std     519.111540    23.283346    19.523517     7.092566     0.131547\n",
       "min     676.530029    70.000000     7.960000     8.850000     1.039047\n",
       "25%    1239.874969   109.725000    14.380000    15.570000     1.171313\n",
       "50%    1551.434998   120.580002    33.869999    17.268500     1.303297\n",
       "75%    2073.010070   132.840004    37.827501    22.882500     1.369971\n",
       "max    2872.870117   184.589996   117.480003    47.259998     1.598798"
      ]
     },
     "execution_count": 6,
     "metadata": {},
     "output_type": "execute_result"
    }
   ],
   "source": [
    "gold.describe()"
   ]
  },
  {
   "cell_type": "code",
   "execution_count": 7,
   "id": "e03931a2",
   "metadata": {},
   "outputs": [
    {
     "data": {
      "text/plain": [
       "<AxesSubplot:>"
      ]
     },
     "execution_count": 7,
     "metadata": {},
     "output_type": "execute_result"
    },
    {
     "data": {
      "image/png": "[encoded data removed]",
      "text/plain": [
       "<Figure size 576x576 with 2 Axes>"
      ]
     },
     "metadata": {
      "needs_background": "light"
     },
     "output_type": "display_data"
    }
   ],
   "source": [
    "correlation=gold.corr()\n",
    "plt.figure(figsize=(8,8))\n",
    "sns.heatmap(correlation,annot=True)"
   ]
  },
  {
   "cell_type": "code",
   "execution_count": 8,
   "id": "39d24f1a",
   "metadata": {},
   "outputs": [
    {
     "name": "stdout",
     "output_type": "stream",
     "text": [
      "SPX        0.049345\n",
      "GLD        1.000000\n",
      "USO       -0.186360\n",
      "SLV        0.866632\n",
      "EUR/USD   -0.024375\n",
      "Name: GLD, dtype: float64\n"
     ]
    }
   ],
   "source": [
    "print(correlation['GLD'])"
   ]
  },
  {
   "cell_type": "code",
   "execution_count": 9,
   "id": "3915453c",
   "metadata": {},
   "outputs": [
    {
     "name": "stderr",
     "output_type": "stream",
     "text": [
      "C:\\Users\\Mohammed Kamran\\anaconda3\\lib\\site-packages\\seaborn\\distributions.py:2557: FutureWarning: `distplot` is a deprecated function and will be removed in a future version. Please adapt your code to use either `displot` (a figure-level function with similar flexibility) or `histplot` (an axes-level function for histograms).\n",
      "  warnings.warn(msg, FutureWarning)\n"
     ]
    },
    {
     "data": {
      "text/plain": [
       "<AxesSubplot:xlabel='GLD', ylabel='Density'>"
      ]
     },
     "execution_count": 9,
     "metadata": {},
     "output_type": "execute_result"
    },
    {
     "data": {
      "image/png": "[encoded data removed]",
      "text/plain": [
       "<Figure size 432x288 with 1 Axes>"
      ]
     },
     "metadata": {
      "needs_background": "light"
     },
     "output_type": "display_data"
    }
   ],
   "source": [
    "sns.distplot(gold['GLD'])"
   ]
  },
  {
   "cell_type": "code",
   "execution_count": 10,
   "id": "2de1512e",
   "metadata": {},
   "outputs": [],
   "source": [
    "X=gold.drop([\"GLD\",\"Date\"],axis=1)\n",
    "y=gold['GLD']"
   ]
  },
  {
   "cell_type": "code",
   "execution_count": 11,
   "id": "27a144b7",
   "metadata": {},
   "outputs": [
    {
     "data": {
      "text/html": [
       "<div>\n",
       "<style scoped>\n",
       "    .dataframe tbody tr th:only-of-type {\n",
       "        vertical-align: middle;\n",
       "    }\n",
       "\n",
       "    .dataframe tbody tr th {\n",
       "        vertical-align: top;\n",
       "    }\n",
       "\n",
       "    .dataframe thead th {\n",
       "        text-align: right;\n",
       "    }\n",
       "</style>\n",
       "<table border=\"1\" class=\"dataframe\">\n",
       "  <thead>\n",
       "    <tr style=\"text-align: right;\">\n",
       "      <th></th>\n",
       "      <th>SPX</th>\n",
       "      <th>USO</th>\n",
       "      <th>SLV</th>\n",
       "      <th>EUR/USD</th>\n",
       "    </tr>\n",
       "  </thead>\n",
       "  <tbody>\n",
       "    <tr>\n",
       "      <th>0</th>\n",
       "      <td>1447.160034</td>\n",
       "      <td>78.470001</td>\n",
       "      <td>15.180</td>\n",
       "      <td>1.471692</td>\n",
       "    </tr>\n",
       "    <tr>\n",
       "      <th>1</th>\n",
       "      <td>1447.160034</td>\n",
       "      <td>78.370003</td>\n",
       "      <td>15.285</td>\n",
       "      <td>1.474491</td>\n",
       "    </tr>\n",
       "    <tr>\n",
       "      <th>2</th>\n",
       "      <td>1411.630005</td>\n",
       "      <td>77.309998</td>\n",
       "      <td>15.167</td>\n",
       "      <td>1.475492</td>\n",
       "    </tr>\n",
       "    <tr>\n",
       "      <th>3</th>\n",
       "      <td>1416.180054</td>\n",
       "      <td>75.500000</td>\n",
       "      <td>15.053</td>\n",
       "      <td>1.468299</td>\n",
       "    </tr>\n",
       "    <tr>\n",
       "      <th>4</th>\n",
       "      <td>1390.189941</td>\n",
       "      <td>76.059998</td>\n",
       "      <td>15.590</td>\n",
       "      <td>1.557099</td>\n",
       "    </tr>\n",
       "  </tbody>\n",
       "</table>\n",
       "</div>"
      ],
      "text/plain": [
       "           SPX        USO     SLV   EUR/USD\n",
       "0  1447.160034  78.470001  15.180  1.471692\n",
       "1  1447.160034  78.370003  15.285  1.474491\n",
       "2  1411.630005  77.309998  15.167  1.475492\n",
       "3  1416.180054  75.500000  15.053  1.468299\n",
       "4  1390.189941  76.059998  15.590  1.557099"
      ]
     },
     "execution_count": 11,
     "metadata": {},
     "output_type": "execute_result"
    }
   ],
   "source": [
    "X.head()"
   ]
  },
  {
   "cell_type": "code",
   "execution_count": 12,
   "id": "676909f0",
   "metadata": {},
   "outputs": [
    {
     "data": {
      "text/plain": [
       "0    84.860001\n",
       "1    85.570000\n",
       "2    85.129997\n",
       "3    84.769997\n",
       "4    86.779999\n",
       "Name: GLD, dtype: float64"
      ]
     },
     "execution_count": 12,
     "metadata": {},
     "output_type": "execute_result"
    }
   ],
   "source": [
    "y.head()"
   ]
  },
  {
   "cell_type": "code",
   "execution_count": 13,
   "id": "d7f11716",
   "metadata": {},
   "outputs": [],
   "source": [
    "X_train,X_test,y_train,y_test=train_test_split(X,y,test_size=0.2,random_state=2)"
   ]
  },
  {
   "cell_type": "code",
   "execution_count": 14,
   "id": "a4e861a6",
   "metadata": {},
   "outputs": [],
   "source": [
    "rf=RandomForestRegressor(n_estimators=100)\n"
   ]
  },
  {
   "cell_type": "code",
   "execution_count": 15,
   "id": "397aa315",
   "metadata": {},
   "outputs": [
    {
     "data": {
      "text/plain": [
       "RandomForestRegressor()"
      ]
     },
     "execution_count": 15,
     "metadata": {},
     "output_type": "execute_result"
    }
   ],
   "source": [
    "rf.fit(X_train,y_train)"
   ]
  },
  {
   "cell_type": "code",
   "execution_count": 16,
   "id": "63acd324",
   "metadata": {},
   "outputs": [],
   "source": [
    "test_data_prediction=rf.predict(X_test)"
   ]
  },
  {
   "cell_type": "code",
   "execution_count": 17,
   "id": "f1fff5ec",
   "metadata": {},
   "outputs": [
    {
     "name": "stdout",
     "output_type": "stream",
     "text": [
      "[168.25699938  81.79560004 116.24070054 127.6613005  120.71560128\n",
      " 154.76149778 150.42529932 125.86210041 117.48829869 125.95390036\n",
      " 116.53370097 172.08630035 140.85549842 167.75509823 115.17629987\n",
      " 117.75700062 138.52850343 169.70800073 159.90300275 157.59519885\n",
      " 154.99889991 125.09320036 176.4207995  157.05110387 125.22790046\n",
      "  93.75499995  77.14210014 120.46610005 119.10169907 167.49779954\n",
      "  88.15760017 125.24540034  91.05650039 117.73020025 121.00709931\n",
      " 135.90650059 115.73050175 115.19570066 147.95469941 107.24660086\n",
      " 104.32850264  87.28509797 126.46820034 117.97059988 153.1538985\n",
      " 119.77580014 108.40750005 108.32669833  93.07400046 127.30729702\n",
      "  74.56040046 113.64539956 121.38729998 111.16669885 118.83939897\n",
      " 120.94589934 158.9706008  167.69210111 146.87669694  85.88299894\n",
      "  94.38510056  86.76529916  90.5821002  119.05600078 126.38150088\n",
      " 127.67210065 169.09519997 122.25599934 117.50719886  98.4891001\n",
      " 168.59960195 143.00289832 131.95200176 121.24180233 120.9227994\n",
      " 119.70680036 114.8168016  118.22870055 107.07910096 127.83039981\n",
      " 113.9909     107.30119975 116.49950094 119.55159867  88.82470067\n",
      "  88.24799856 146.55410186 127.20749917 113.04760064 110.24269834\n",
      " 108.20569904  77.107699   169.11380187 114.00949915 121.61669885\n",
      " 127.90220207 155.01309864  91.71779954 136.62010051 159.29580359\n",
      " 125.42260074 125.28490039 130.56010212 115.06420117 119.71359954\n",
      "  92.20630014 110.39349892 166.32299908 157.30759857 114.12279942\n",
      " 106.65610128  79.10629989 113.24700062 125.78610098 107.04109947\n",
      " 119.34660094 155.38550326 159.74499849 120.18759984 134.52220301\n",
      " 101.43379965 117.38389813 119.28630018 113.08110088 102.77099866\n",
      " 160.06349793  98.83740016 148.30599995 125.22240093 169.38699938\n",
      " 125.38949951 127.44249721 127.38900151 113.87519934 112.83940074\n",
      " 123.58029912 102.2132991   89.12809986 124.46249946 101.57339954\n",
      " 107.10969953 113.77150038 117.25780094  99.08449919 121.77140027\n",
      " 163.23269919  87.49989909 106.56930019 117.07880077 127.58610094\n",
      " 124.20880067  80.78029947 120.35800066 158.39039796  87.98039972\n",
      " 110.27719944 119.16069919 172.71559896 103.0210989  105.50900035\n",
      " 122.51750032 158.70989809  87.81489805  93.10589997 112.92340031\n",
      " 177.57209967 114.37929974 119.2829      94.67970093 125.82050037\n",
      " 166.52780117 114.7972007  116.6820012   88.32169849 148.88580077\n",
      " 120.22899926  89.58919986 111.68680018 117.38410041 118.82820111\n",
      "  88.08059921  94.16399971 117.16000025 118.31210188 120.19360091\n",
      " 126.77699791 121.86859975 150.79239989 164.83830091 118.48679973\n",
      " 120.38810146 151.07720052 118.39279915 172.72169866 105.75709933\n",
      " 104.97260145 149.43370087 113.76180058 124.87750121 147.52150046\n",
      " 119.67750097 115.49620094 112.49830034 113.58030178 141.8341012\n",
      " 117.94119758 102.9417005  115.88670126 103.69130187  98.95210036\n",
      " 117.28240058  90.56630047  91.75200065 152.96339833 102.68169974\n",
      " 155.0046009  114.34900129 139.55280062  90.11369835 115.50999969\n",
      " 114.53559951 123.34400021 121.75480065 165.58540157  92.89679936\n",
      " 135.43980139 121.40559914 120.86400062 104.45450003 143.71290279\n",
      " 121.56699926 116.71280028 113.72760071 127.21099713 122.79659954\n",
      " 125.75789944 121.29990041  86.78699892 132.06050154 146.16590178\n",
      "  92.77989939 159.23739981 158.54550315 126.3483987  164.45239986\n",
      " 108.73989958 109.68290063 103.5383982   94.39120063 127.47260254\n",
      " 107.10350068 162.61620013 121.72220023 131.99300029 130.53610187\n",
      " 160.30310054  90.20009913 175.90430168 127.65090013 126.79929817\n",
      "  86.41879929 124.45409961 150.39039698  89.71460018 106.69550014\n",
      " 108.85810004  85.03579853 135.73829997 154.64610242 140.46740363\n",
      "  74.44349994 152.24760153 126.41909998 126.71490005 127.54079886\n",
      " 108.55719967 156.02330006 114.4116013  116.93620137 125.37629971\n",
      " 154.27560168 121.24519995 156.45369847  92.88850051 125.53270146\n",
      " 125.28090031  87.82800042  92.01389918 126.13859915 128.43660394\n",
      " 113.20220061 117.29759709 121.03670027 127.21519812 119.78950094\n",
      " 136.12550049  93.86579925 119.57980073 113.22670115  94.22009919\n",
      " 108.78679967  88.34879946 109.28559925  89.79719988  92.19880014\n",
      " 131.66890291 162.38100079  89.32760011 119.39290099 133.20530155\n",
      " 123.81909997 128.09600157 101.99619843  89.02979858 131.44190099\n",
      " 119.70090004 108.84400007 167.24490144 115.27180036  86.54999844\n",
      " 118.77670055  91.07339978 161.50240072 116.6973004  121.40989991\n",
      " 160.31159817 120.06619935 112.9235994  108.38599872 126.56820048\n",
      "  76.38120039 102.96339968 127.41240227 122.14669906  92.57760005\n",
      " 131.8543008  118.11800091 115.74779984 154.28440299 160.09150057\n",
      " 109.94229939 154.75909748 119.35750105 160.50500098 118.47550025\n",
      " 157.62319969 115.14319906 116.28450014 148.45759933 114.88960094\n",
      " 125.92599892 166.14459913 117.6694002  125.23469911 153.3565034\n",
      " 153.38580322 132.06000036 114.89400035 121.24270227 125.30090083\n",
      "  89.81110072 123.14310012 154.62740188 111.84390043 106.63909989\n",
      " 161.88580159 118.80320021 165.81929975 134.14330127 114.67779966\n",
      " 152.90609815 168.83960064 115.07910003 114.16950144 158.92119911\n",
      "  85.33119894 127.12980061 127.84060073 128.71130021 124.30290061\n",
      " 123.86400031  90.61160081 153.53729975  97.07389966 136.65710024\n",
      "  89.22209927 107.2893999  115.15730073 112.83250112 124.24749901\n",
      "  91.45759874 125.31250113 162.48219876 119.7964991  165.2602003\n",
      " 126.77779779 112.45190036 127.7807992   94.89939913  90.90589992\n",
      " 102.93879923 120.83810032  83.30739942 126.25829963 161.06360486\n",
      " 117.3043008  118.16139985 119.94219975 122.89919983 120.14640137\n",
      " 121.74399973 118.22510062 107.15200023 148.22929988 126.01699903\n",
      " 115.69820083  74.12670003 127.76820093 153.76240028 122.71180014\n",
      " 125.6054007   88.81000013 103.75909893 124.80830075 120.23820038\n",
      "  73.34680088 151.51970025 121.15210049 104.6388004   86.39499766\n",
      " 115.20709928 172.1737984  119.85020038 159.69379808 113.1750996\n",
      " 121.02080008 118.41880099  95.86839971 118.8109003  126.08110063\n",
      " 118.45829969  95.97090057 154.0379021  121.81900003 147.35290005\n",
      " 159.36590249 113.56820028 122.48179957 149.99849785 127.10870023\n",
      " 165.7613007  136.27310017 120.03740006 166.5793984  108.3123987\n",
      " 121.84179867 138.52180148 106.48729887]\n"
     ]
    }
   ],
   "source": [
    "print(test_data_prediction)"
   ]
  },
  {
   "cell_type": "code",
   "execution_count": 18,
   "id": "6a3c3684",
   "metadata": {},
   "outputs": [],
   "source": [
    "score=metrics.r2_score(y_test,test_data_prediction)"
   ]
  },
  {
   "cell_type": "code",
   "execution_count": 19,
   "id": "246d3321",
   "metadata": {},
   "outputs": [
    {
     "data": {
      "text/plain": [
       "0.9887318989738304"
      ]
     },
     "execution_count": 19,
     "metadata": {},
     "output_type": "execute_result"
    }
   ],
   "source": [
    "score"
   ]
  },
  {
   "cell_type": "code",
   "execution_count": 20,
   "id": "5a7f72bf",
   "metadata": {},
   "outputs": [],
   "source": [
    "y_test=list(y_test)"
   ]
  },
  {
   "cell_type": "code",
   "execution_count": 21,
   "id": "3f6696ce",
   "metadata": {},
   "outputs": [
    {
     "data": {
      "image/png": "[encoded data removed]",
      "text/plain": [
       "<Figure size 432x288 with 1 Axes>"
      ]
     },
     "metadata": {
      "needs_background": "light"
     },
     "output_type": "display_data"
    }
   ],
   "source": [
    "plt.plot(y_test,color='blue',label=\"Actual Value\")\n",
    "plt.plot(test_data_prediction,color='green',label='Predicted Value')\n",
    "plt.title(\"Actual Vs Predicted\")\n",
    "plt.xlabel(\"Number of Values\")\n",
    "plt.ylabel(\"Gold Price\")\n",
    "plt.legend()\n",
    "plt.show()"
   ]
  },
  {
   "cell_type": "code",
   "execution_count": null,
   "id": "c01db307",
   "metadata": {},
   "outputs": [],
   "source": []
  }
 ],
 "metadata": {
  "kernelspec": {
   "display_name": "Python 3",
   "language": "python",
   "name": "python3"
  },
  "language_info": {
   "codemirror_mode": {
    "name": "ipython",
    "version": 3
   },
   "file_extension": ".py",
   "mimetype": "text/x-python",
   "name": "python",
   "nbconvert_exporter": "python",
   "pygments_lexer": "ipython3",
   "version": "3.8.8"
  }
 },
 "nbformat": 4,
 "nbformat_minor": 5
}
